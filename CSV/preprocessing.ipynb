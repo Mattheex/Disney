{
 "cells": [
  {
   "cell_type": "code",
   "execution_count": 1,
   "id": "initial_id",
   "metadata": {
    "collapsed": true,
    "ExecuteTime": {
     "end_time": "2024-01-09T14:57:39.041071600Z",
     "start_time": "2024-01-09T14:57:37.867246400Z"
    }
   },
   "outputs": [],
   "source": [
    "import pandas as pd"
   ]
  },
  {
   "cell_type": "code",
   "execution_count": 20,
   "outputs": [
    {
     "data": {
      "text/plain": "             title  year                      genre  runtime mpa_rating   \n0  Captain America  1944  Action, Adventure, Sci-Fi      244   Approved  \\\n1  Howard the Duck  1986  Action, Adventure, Comedy      110         PG   \n2            Blade  1998     Action, Horror, Sci-Fi      120          R   \n3            X-Men  2000  Action, Adventure, Sci-Fi      104      PG-13   \n4         Blade II  2002    Action, Fantasy, Horror      117          R   \n\n   imdb_rating  imdb_votes  imdb_gross            director   \n0          5.5         844           0       Elmer Clifton  \\\n1          4.7       44073    16300000       Willard Huyck   \n2          7.1      251243    70090000  Stephen Norrington   \n3          7.4      580354   157300000        Bryan Singer   \n4          6.7      203813    82350000  Guillermo del Toro   \n\n                                               stars   \n0  Elmer Clifton,Dick Purcell,Lorna Gray,Lionel A...  \\\n1  Willard Huyck,Lea Thompson,Jeffrey Jones,Tim R...   \n2  Stephen Norrington,Wesley Snipes,Stephen Dorff...   \n3  Bryan Singer,Patrick Stewart,Hugh Jackman,Ian ...   \n4  Guillermo del Toro,Wesley Snipes,Kris Kristoff...   \n\n                                         description   \n0  Superhero Captain America battles the evil for...  \\\n1  A sarcastic humanoid duck is pulled from his h...   \n2  A half-vampire, half-mortal man becomes a prot...   \n3  In a world where mutants (evolved super-powere...   \n4  Blade forms an uneasy alliance with the vampir...   \n\n                                      crit_consensus  tomato_meter   \n0  Find one of these old serials, friend. They're...             0  \\\n1  While it has its moments, Howard the Duck suff...            13   \n2  Though some may find the plot a bit lacking, B...            55   \n3  Faithful to the comics and filled with action,...            82   \n4  Though Blade II offers more of what worked in ...            57   \n\n   tomato_review  tom_aud_score  tom_ratings  entity  id  \n0              1             82          250  MARVEL   1  \n1             78             38        50000  MARVEL   2  \n2            103             78       250000  MARVEL   3  \n3            174             83       250000  MARVEL   4  \n4            150             68       250000  MARVEL   5  ",
      "text/html": "<div>\n<style scoped>\n    .dataframe tbody tr th:only-of-type {\n        vertical-align: middle;\n    }\n\n    .dataframe tbody tr th {\n        vertical-align: top;\n    }\n\n    .dataframe thead th {\n        text-align: right;\n    }\n</style>\n<table border=\"1\" class=\"dataframe\">\n  <thead>\n    <tr style=\"text-align: right;\">\n      <th></th>\n      <th>title</th>\n      <th>year</th>\n      <th>genre</th>\n      <th>runtime</th>\n      <th>mpa_rating</th>\n      <th>imdb_rating</th>\n      <th>imdb_votes</th>\n      <th>imdb_gross</th>\n      <th>director</th>\n      <th>stars</th>\n      <th>description</th>\n      <th>crit_consensus</th>\n      <th>tomato_meter</th>\n      <th>tomato_review</th>\n      <th>tom_aud_score</th>\n      <th>tom_ratings</th>\n      <th>entity</th>\n      <th>id</th>\n    </tr>\n  </thead>\n  <tbody>\n    <tr>\n      <th>0</th>\n      <td>Captain America</td>\n      <td>1944</td>\n      <td>Action, Adventure, Sci-Fi</td>\n      <td>244</td>\n      <td>Approved</td>\n      <td>5.5</td>\n      <td>844</td>\n      <td>0</td>\n      <td>Elmer Clifton</td>\n      <td>Elmer Clifton,Dick Purcell,Lorna Gray,Lionel A...</td>\n      <td>Superhero Captain America battles the evil for...</td>\n      <td>Find one of these old serials, friend. They're...</td>\n      <td>0</td>\n      <td>1</td>\n      <td>82</td>\n      <td>250</td>\n      <td>MARVEL</td>\n      <td>1</td>\n    </tr>\n    <tr>\n      <th>1</th>\n      <td>Howard the Duck</td>\n      <td>1986</td>\n      <td>Action, Adventure, Comedy</td>\n      <td>110</td>\n      <td>PG</td>\n      <td>4.7</td>\n      <td>44073</td>\n      <td>16300000</td>\n      <td>Willard Huyck</td>\n      <td>Willard Huyck,Lea Thompson,Jeffrey Jones,Tim R...</td>\n      <td>A sarcastic humanoid duck is pulled from his h...</td>\n      <td>While it has its moments, Howard the Duck suff...</td>\n      <td>13</td>\n      <td>78</td>\n      <td>38</td>\n      <td>50000</td>\n      <td>MARVEL</td>\n      <td>2</td>\n    </tr>\n    <tr>\n      <th>2</th>\n      <td>Blade</td>\n      <td>1998</td>\n      <td>Action, Horror, Sci-Fi</td>\n      <td>120</td>\n      <td>R</td>\n      <td>7.1</td>\n      <td>251243</td>\n      <td>70090000</td>\n      <td>Stephen Norrington</td>\n      <td>Stephen Norrington,Wesley Snipes,Stephen Dorff...</td>\n      <td>A half-vampire, half-mortal man becomes a prot...</td>\n      <td>Though some may find the plot a bit lacking, B...</td>\n      <td>55</td>\n      <td>103</td>\n      <td>78</td>\n      <td>250000</td>\n      <td>MARVEL</td>\n      <td>3</td>\n    </tr>\n    <tr>\n      <th>3</th>\n      <td>X-Men</td>\n      <td>2000</td>\n      <td>Action, Adventure, Sci-Fi</td>\n      <td>104</td>\n      <td>PG-13</td>\n      <td>7.4</td>\n      <td>580354</td>\n      <td>157300000</td>\n      <td>Bryan Singer</td>\n      <td>Bryan Singer,Patrick Stewart,Hugh Jackman,Ian ...</td>\n      <td>In a world where mutants (evolved super-powere...</td>\n      <td>Faithful to the comics and filled with action,...</td>\n      <td>82</td>\n      <td>174</td>\n      <td>83</td>\n      <td>250000</td>\n      <td>MARVEL</td>\n      <td>4</td>\n    </tr>\n    <tr>\n      <th>4</th>\n      <td>Blade II</td>\n      <td>2002</td>\n      <td>Action, Fantasy, Horror</td>\n      <td>117</td>\n      <td>R</td>\n      <td>6.7</td>\n      <td>203813</td>\n      <td>82350000</td>\n      <td>Guillermo del Toro</td>\n      <td>Guillermo del Toro,Wesley Snipes,Kris Kristoff...</td>\n      <td>Blade forms an uneasy alliance with the vampir...</td>\n      <td>Though Blade II offers more of what worked in ...</td>\n      <td>57</td>\n      <td>150</td>\n      <td>68</td>\n      <td>250000</td>\n      <td>MARVEL</td>\n      <td>5</td>\n    </tr>\n  </tbody>\n</table>\n</div>"
     },
     "execution_count": 20,
     "metadata": {},
     "output_type": "execute_result"
    }
   ],
   "source": [
    "csv = pd.read_csv('mdc.csv',encoding='latin-1')\n",
    "#csv['uri'] = csv['title'].apply(lambda s : ''.join(ch for ch in s if ch.isalnum()))\n",
    "\n",
    "csv.drop(columns=['uri'], inplace=True, axis=0)\n",
    "csv.head()"
   ],
   "metadata": {
    "collapsed": false,
    "ExecuteTime": {
     "end_time": "2024-01-09T15:39:23.184285600Z",
     "start_time": "2024-01-09T15:39:23.079149700Z"
    }
   },
   "id": "601a47ad925e415"
  },
  {
   "cell_type": "code",
   "execution_count": 18,
   "outputs": [
    {
     "data": {
      "text/plain": "             title  year                      genre  runtime mpa_rating   \n0  Captain America  1944  Action, Adventure, Sci-Fi      244   Approved  \\\n1  Howard the Duck  1986  Action, Adventure, Comedy      110         PG   \n2            Blade  1998     Action, Horror, Sci-Fi      120          R   \n3            X-Men  2000  Action, Adventure, Sci-Fi      104      PG-13   \n4         Blade II  2002    Action, Fantasy, Horror      117          R   \n\n   imdb_rating  imdb_votes  imdb_gross            director   \n0          5.5         844           0       Elmer Clifton  \\\n1          4.7       44073    16300000       Willard Huyck   \n2          7.1      251243    70090000  Stephen Norrington   \n3          7.4      580354   157300000        Bryan Singer   \n4          6.7      203813    82350000  Guillermo del Toro   \n\n                                               stars   \n0  Elmer Clifton,Dick Purcell,Lorna Gray,Lionel A...  \\\n1  Willard Huyck,Lea Thompson,Jeffrey Jones,Tim R...   \n2  Stephen Norrington,Wesley Snipes,Stephen Dorff...   \n3  Bryan Singer,Patrick Stewart,Hugh Jackman,Ian ...   \n4  Guillermo del Toro,Wesley Snipes,Kris Kristoff...   \n\n                                         description   \n0  Superhero Captain America battles the evil for...  \\\n1  A sarcastic humanoid duck is pulled from his h...   \n2  A half-vampire, half-mortal man becomes a prot...   \n3  In a world where mutants (evolved super-powere...   \n4  Blade forms an uneasy alliance with the vampir...   \n\n                                      crit_consensus  tomato_meter   \n0  Find one of these old serials, friend. They're...             0  \\\n1  While it has its moments, Howard the Duck suff...            13   \n2  Though some may find the plot a bit lacking, B...            55   \n3  Faithful to the comics and filled with action,...            82   \n4  Though Blade II offers more of what worked in ...            57   \n\n   tomato_review  tom_aud_score  tom_ratings  entity  id             uri  \n0              1             82          250  MARVEL   1  CaptainAmerica  \n1             78             38        50000  MARVEL   2   HowardtheDuck  \n2            103             78       250000  MARVEL   3           Blade  \n3            174             83       250000  MARVEL   4            XMen  \n4            150             68       250000  MARVEL   5         BladeII  ",
      "text/html": "<div>\n<style scoped>\n    .dataframe tbody tr th:only-of-type {\n        vertical-align: middle;\n    }\n\n    .dataframe tbody tr th {\n        vertical-align: top;\n    }\n\n    .dataframe thead th {\n        text-align: right;\n    }\n</style>\n<table border=\"1\" class=\"dataframe\">\n  <thead>\n    <tr style=\"text-align: right;\">\n      <th></th>\n      <th>title</th>\n      <th>year</th>\n      <th>genre</th>\n      <th>runtime</th>\n      <th>mpa_rating</th>\n      <th>imdb_rating</th>\n      <th>imdb_votes</th>\n      <th>imdb_gross</th>\n      <th>director</th>\n      <th>stars</th>\n      <th>description</th>\n      <th>crit_consensus</th>\n      <th>tomato_meter</th>\n      <th>tomato_review</th>\n      <th>tom_aud_score</th>\n      <th>tom_ratings</th>\n      <th>entity</th>\n      <th>id</th>\n      <th>uri</th>\n    </tr>\n  </thead>\n  <tbody>\n    <tr>\n      <th>0</th>\n      <td>Captain America</td>\n      <td>1944</td>\n      <td>Action, Adventure, Sci-Fi</td>\n      <td>244</td>\n      <td>Approved</td>\n      <td>5.5</td>\n      <td>844</td>\n      <td>0</td>\n      <td>Elmer Clifton</td>\n      <td>Elmer Clifton,Dick Purcell,Lorna Gray,Lionel A...</td>\n      <td>Superhero Captain America battles the evil for...</td>\n      <td>Find one of these old serials, friend. They're...</td>\n      <td>0</td>\n      <td>1</td>\n      <td>82</td>\n      <td>250</td>\n      <td>MARVEL</td>\n      <td>1</td>\n      <td>CaptainAmerica</td>\n    </tr>\n    <tr>\n      <th>1</th>\n      <td>Howard the Duck</td>\n      <td>1986</td>\n      <td>Action, Adventure, Comedy</td>\n      <td>110</td>\n      <td>PG</td>\n      <td>4.7</td>\n      <td>44073</td>\n      <td>16300000</td>\n      <td>Willard Huyck</td>\n      <td>Willard Huyck,Lea Thompson,Jeffrey Jones,Tim R...</td>\n      <td>A sarcastic humanoid duck is pulled from his h...</td>\n      <td>While it has its moments, Howard the Duck suff...</td>\n      <td>13</td>\n      <td>78</td>\n      <td>38</td>\n      <td>50000</td>\n      <td>MARVEL</td>\n      <td>2</td>\n      <td>HowardtheDuck</td>\n    </tr>\n    <tr>\n      <th>2</th>\n      <td>Blade</td>\n      <td>1998</td>\n      <td>Action, Horror, Sci-Fi</td>\n      <td>120</td>\n      <td>R</td>\n      <td>7.1</td>\n      <td>251243</td>\n      <td>70090000</td>\n      <td>Stephen Norrington</td>\n      <td>Stephen Norrington,Wesley Snipes,Stephen Dorff...</td>\n      <td>A half-vampire, half-mortal man becomes a prot...</td>\n      <td>Though some may find the plot a bit lacking, B...</td>\n      <td>55</td>\n      <td>103</td>\n      <td>78</td>\n      <td>250000</td>\n      <td>MARVEL</td>\n      <td>3</td>\n      <td>Blade</td>\n    </tr>\n    <tr>\n      <th>3</th>\n      <td>X-Men</td>\n      <td>2000</td>\n      <td>Action, Adventure, Sci-Fi</td>\n      <td>104</td>\n      <td>PG-13</td>\n      <td>7.4</td>\n      <td>580354</td>\n      <td>157300000</td>\n      <td>Bryan Singer</td>\n      <td>Bryan Singer,Patrick Stewart,Hugh Jackman,Ian ...</td>\n      <td>In a world where mutants (evolved super-powere...</td>\n      <td>Faithful to the comics and filled with action,...</td>\n      <td>82</td>\n      <td>174</td>\n      <td>83</td>\n      <td>250000</td>\n      <td>MARVEL</td>\n      <td>4</td>\n      <td>XMen</td>\n    </tr>\n    <tr>\n      <th>4</th>\n      <td>Blade II</td>\n      <td>2002</td>\n      <td>Action, Fantasy, Horror</td>\n      <td>117</td>\n      <td>R</td>\n      <td>6.7</td>\n      <td>203813</td>\n      <td>82350000</td>\n      <td>Guillermo del Toro</td>\n      <td>Guillermo del Toro,Wesley Snipes,Kris Kristoff...</td>\n      <td>Blade forms an uneasy alliance with the vampir...</td>\n      <td>Though Blade II offers more of what worked in ...</td>\n      <td>57</td>\n      <td>150</td>\n      <td>68</td>\n      <td>250000</td>\n      <td>MARVEL</td>\n      <td>5</td>\n      <td>BladeII</td>\n    </tr>\n  </tbody>\n</table>\n</div>"
     },
     "execution_count": 18,
     "metadata": {},
     "output_type": "execute_result"
    }
   ],
   "source": [
    "csv.head()"
   ],
   "metadata": {
    "collapsed": false,
    "ExecuteTime": {
     "end_time": "2024-01-09T15:34:18.091921400Z",
     "start_time": "2024-01-09T15:34:18.029227400Z"
    }
   },
   "id": "a650ab36f08e0ad6"
  },
  {
   "cell_type": "code",
   "execution_count": 21,
   "outputs": [],
   "source": [
    "csv.to_csv('mdc.csv', index=False)"
   ],
   "metadata": {
    "collapsed": false,
    "ExecuteTime": {
     "end_time": "2024-01-09T15:39:28.122738Z",
     "start_time": "2024-01-09T15:39:28.095602600Z"
    }
   },
   "id": "218bcb9fd5c0eba"
  }
 ],
 "metadata": {
  "kernelspec": {
   "display_name": "Python 3",
   "language": "python",
   "name": "python3"
  },
  "language_info": {
   "codemirror_mode": {
    "name": "ipython",
    "version": 2
   },
   "file_extension": ".py",
   "mimetype": "text/x-python",
   "name": "python",
   "nbconvert_exporter": "python",
   "pygments_lexer": "ipython2",
   "version": "2.7.6"
  }
 },
 "nbformat": 4,
 "nbformat_minor": 5
}
