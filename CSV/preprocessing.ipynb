{
 "cells": [
  {
   "cell_type": "code",
   "execution_count": 1,
   "id": "initial_id",
   "metadata": {
    "collapsed": true,
    "ExecuteTime": {
     "end_time": "2024-01-08T10:44:41.279123100Z",
     "start_time": "2024-01-08T10:44:39.595268900Z"
    }
   },
   "outputs": [],
   "source": [
    "import pandas as pd\n",
    "import urllib.parse"
   ]
  },
  {
   "cell_type": "code",
   "execution_count": 2,
   "outputs": [
    {
     "data": {
      "text/plain": "                       movie_title release_date      genre mpaa_rating   \n0  Snow White and the Seven Dwarfs   1937-12-21    Musical           G  \\\n1                        Pinocchio   1940-02-09  Adventure           G   \n2                         Fantasia   1940-11-13    Musical           G   \n3                Song of the South   1946-11-12  Adventure           G   \n4                       Cinderella   1950-02-15      Drama           G   \n\n   total_gross  inflation_adjusted_gross                         uri  \n0    184925485                5228953251  SnowWhiteandtheSevenDwarfs  \n1     84300000                2188229052                   Pinocchio  \n2     83320000                2187090808                    Fantasia  \n3     65000000                1078510579              SongoftheSouth  \n4     85000000                 920608730                  Cinderella  ",
      "text/html": "<div>\n<style scoped>\n    .dataframe tbody tr th:only-of-type {\n        vertical-align: middle;\n    }\n\n    .dataframe tbody tr th {\n        vertical-align: top;\n    }\n\n    .dataframe thead th {\n        text-align: right;\n    }\n</style>\n<table border=\"1\" class=\"dataframe\">\n  <thead>\n    <tr style=\"text-align: right;\">\n      <th></th>\n      <th>movie_title</th>\n      <th>release_date</th>\n      <th>genre</th>\n      <th>mpaa_rating</th>\n      <th>total_gross</th>\n      <th>inflation_adjusted_gross</th>\n      <th>uri</th>\n    </tr>\n  </thead>\n  <tbody>\n    <tr>\n      <th>0</th>\n      <td>Snow White and the Seven Dwarfs</td>\n      <td>1937-12-21</td>\n      <td>Musical</td>\n      <td>G</td>\n      <td>184925485</td>\n      <td>5228953251</td>\n      <td>SnowWhiteandtheSevenDwarfs</td>\n    </tr>\n    <tr>\n      <th>1</th>\n      <td>Pinocchio</td>\n      <td>1940-02-09</td>\n      <td>Adventure</td>\n      <td>G</td>\n      <td>84300000</td>\n      <td>2188229052</td>\n      <td>Pinocchio</td>\n    </tr>\n    <tr>\n      <th>2</th>\n      <td>Fantasia</td>\n      <td>1940-11-13</td>\n      <td>Musical</td>\n      <td>G</td>\n      <td>83320000</td>\n      <td>2187090808</td>\n      <td>Fantasia</td>\n    </tr>\n    <tr>\n      <th>3</th>\n      <td>Song of the South</td>\n      <td>1946-11-12</td>\n      <td>Adventure</td>\n      <td>G</td>\n      <td>65000000</td>\n      <td>1078510579</td>\n      <td>SongoftheSouth</td>\n    </tr>\n    <tr>\n      <th>4</th>\n      <td>Cinderella</td>\n      <td>1950-02-15</td>\n      <td>Drama</td>\n      <td>G</td>\n      <td>85000000</td>\n      <td>920608730</td>\n      <td>Cinderella</td>\n    </tr>\n  </tbody>\n</table>\n</div>"
     },
     "execution_count": 2,
     "metadata": {},
     "output_type": "execute_result"
    }
   ],
   "source": [
    "csv = pd.read_csv('disney_movies_total_gross.csv')\n",
    "csv['uri'] = csv['movie_title'].apply(lambda s : ''.join(ch for ch in s if ch.isalnum()))\n",
    "csv.head()"
   ],
   "metadata": {
    "collapsed": false,
    "ExecuteTime": {
     "end_time": "2024-01-08T10:44:41.377672200Z",
     "start_time": "2024-01-08T10:44:41.279123100Z"
    }
   },
   "id": "601a47ad925e415"
  },
  {
   "cell_type": "code",
   "execution_count": 6,
   "outputs": [
    {
     "ename": "TypeError",
     "evalue": "'float' object is not iterable",
     "output_type": "error",
     "traceback": [
      "\u001B[1;31m---------------------------------------------------------------------------\u001B[0m",
      "\u001B[1;31mTypeError\u001B[0m                                 Traceback (most recent call last)",
      "Cell \u001B[1;32mIn[6], line 1\u001B[0m\n\u001B[1;32m----> 1\u001B[0m csv[\u001B[38;5;124m'\u001B[39m\u001B[38;5;124mgenre\u001B[39m\u001B[38;5;124m'\u001B[39m] \u001B[38;5;241m=\u001B[39m \u001B[43mcsv\u001B[49m\u001B[43m[\u001B[49m\u001B[38;5;124;43m'\u001B[39;49m\u001B[38;5;124;43mgenre\u001B[39;49m\u001B[38;5;124;43m'\u001B[39;49m\u001B[43m]\u001B[49m\u001B[38;5;241;43m.\u001B[39;49m\u001B[43mapply\u001B[49m\u001B[43m(\u001B[49m\u001B[38;5;28;43;01mlambda\u001B[39;49;00m\u001B[43m \u001B[49m\u001B[43ms\u001B[49m\u001B[43m \u001B[49m\u001B[43m:\u001B[49m\u001B[43m \u001B[49m\u001B[38;5;124;43m'\u001B[39;49m\u001B[38;5;124;43m'\u001B[39;49m\u001B[38;5;241;43m.\u001B[39;49m\u001B[43mjoin\u001B[49m\u001B[43m(\u001B[49m\u001B[43mch\u001B[49m\u001B[43m \u001B[49m\u001B[38;5;28;43;01mfor\u001B[39;49;00m\u001B[43m \u001B[49m\u001B[43mch\u001B[49m\u001B[43m \u001B[49m\u001B[38;5;129;43;01min\u001B[39;49;00m\u001B[43m \u001B[49m\u001B[43ms\u001B[49m\u001B[43m \u001B[49m\u001B[38;5;28;43;01mif\u001B[39;49;00m\u001B[43m \u001B[49m\u001B[43mch\u001B[49m\u001B[38;5;241;43m.\u001B[39;49m\u001B[43misalnum\u001B[49m\u001B[43m(\u001B[49m\u001B[43m)\u001B[49m\u001B[43m)\u001B[49m\u001B[43m)\u001B[49m\n\u001B[0;32m      2\u001B[0m csv\u001B[38;5;241m.\u001B[39mhead()\n",
      "File \u001B[1;32m~\\AppData\\Local\\Programs\\Python\\Python311\\Lib\\site-packages\\pandas\\core\\series.py:4626\u001B[0m, in \u001B[0;36mSeries.apply\u001B[1;34m(self, func, convert_dtype, args, **kwargs)\u001B[0m\n\u001B[0;32m   4516\u001B[0m \u001B[38;5;28;01mdef\u001B[39;00m \u001B[38;5;21mapply\u001B[39m(\n\u001B[0;32m   4517\u001B[0m     \u001B[38;5;28mself\u001B[39m,\n\u001B[0;32m   4518\u001B[0m     func: AggFuncType,\n\u001B[1;32m   (...)\u001B[0m\n\u001B[0;32m   4521\u001B[0m     \u001B[38;5;241m*\u001B[39m\u001B[38;5;241m*\u001B[39mkwargs,\n\u001B[0;32m   4522\u001B[0m ) \u001B[38;5;241m-\u001B[39m\u001B[38;5;241m>\u001B[39m DataFrame \u001B[38;5;241m|\u001B[39m Series:\n\u001B[0;32m   4523\u001B[0m \u001B[38;5;250m    \u001B[39m\u001B[38;5;124;03m\"\"\"\u001B[39;00m\n\u001B[0;32m   4524\u001B[0m \u001B[38;5;124;03m    Invoke function on values of Series.\u001B[39;00m\n\u001B[0;32m   4525\u001B[0m \n\u001B[1;32m   (...)\u001B[0m\n\u001B[0;32m   4624\u001B[0m \u001B[38;5;124;03m    dtype: float64\u001B[39;00m\n\u001B[0;32m   4625\u001B[0m \u001B[38;5;124;03m    \"\"\"\u001B[39;00m\n\u001B[1;32m-> 4626\u001B[0m     \u001B[38;5;28;01mreturn\u001B[39;00m \u001B[43mSeriesApply\u001B[49m\u001B[43m(\u001B[49m\u001B[38;5;28;43mself\u001B[39;49m\u001B[43m,\u001B[49m\u001B[43m \u001B[49m\u001B[43mfunc\u001B[49m\u001B[43m,\u001B[49m\u001B[43m \u001B[49m\u001B[43mconvert_dtype\u001B[49m\u001B[43m,\u001B[49m\u001B[43m \u001B[49m\u001B[43margs\u001B[49m\u001B[43m,\u001B[49m\u001B[43m \u001B[49m\u001B[43mkwargs\u001B[49m\u001B[43m)\u001B[49m\u001B[38;5;241;43m.\u001B[39;49m\u001B[43mapply\u001B[49m\u001B[43m(\u001B[49m\u001B[43m)\u001B[49m\n",
      "File \u001B[1;32m~\\AppData\\Local\\Programs\\Python\\Python311\\Lib\\site-packages\\pandas\\core\\apply.py:1025\u001B[0m, in \u001B[0;36mSeriesApply.apply\u001B[1;34m(self)\u001B[0m\n\u001B[0;32m   1022\u001B[0m     \u001B[38;5;28;01mreturn\u001B[39;00m \u001B[38;5;28mself\u001B[39m\u001B[38;5;241m.\u001B[39mapply_str()\n\u001B[0;32m   1024\u001B[0m \u001B[38;5;66;03m# self.f is Callable\u001B[39;00m\n\u001B[1;32m-> 1025\u001B[0m \u001B[38;5;28;01mreturn\u001B[39;00m \u001B[38;5;28;43mself\u001B[39;49m\u001B[38;5;241;43m.\u001B[39;49m\u001B[43mapply_standard\u001B[49m\u001B[43m(\u001B[49m\u001B[43m)\u001B[49m\n",
      "File \u001B[1;32m~\\AppData\\Local\\Programs\\Python\\Python311\\Lib\\site-packages\\pandas\\core\\apply.py:1076\u001B[0m, in \u001B[0;36mSeriesApply.apply_standard\u001B[1;34m(self)\u001B[0m\n\u001B[0;32m   1074\u001B[0m     \u001B[38;5;28;01melse\u001B[39;00m:\n\u001B[0;32m   1075\u001B[0m         values \u001B[38;5;241m=\u001B[39m obj\u001B[38;5;241m.\u001B[39mastype(\u001B[38;5;28mobject\u001B[39m)\u001B[38;5;241m.\u001B[39m_values\n\u001B[1;32m-> 1076\u001B[0m         mapped \u001B[38;5;241m=\u001B[39m \u001B[43mlib\u001B[49m\u001B[38;5;241;43m.\u001B[39;49m\u001B[43mmap_infer\u001B[49m\u001B[43m(\u001B[49m\n\u001B[0;32m   1077\u001B[0m \u001B[43m            \u001B[49m\u001B[43mvalues\u001B[49m\u001B[43m,\u001B[49m\n\u001B[0;32m   1078\u001B[0m \u001B[43m            \u001B[49m\u001B[43mf\u001B[49m\u001B[43m,\u001B[49m\n\u001B[0;32m   1079\u001B[0m \u001B[43m            \u001B[49m\u001B[43mconvert\u001B[49m\u001B[38;5;241;43m=\u001B[39;49m\u001B[38;5;28;43mself\u001B[39;49m\u001B[38;5;241;43m.\u001B[39;49m\u001B[43mconvert_dtype\u001B[49m\u001B[43m,\u001B[49m\n\u001B[0;32m   1080\u001B[0m \u001B[43m        \u001B[49m\u001B[43m)\u001B[49m\n\u001B[0;32m   1082\u001B[0m \u001B[38;5;28;01mif\u001B[39;00m \u001B[38;5;28mlen\u001B[39m(mapped) \u001B[38;5;129;01mand\u001B[39;00m \u001B[38;5;28misinstance\u001B[39m(mapped[\u001B[38;5;241m0\u001B[39m], ABCSeries):\n\u001B[0;32m   1083\u001B[0m     \u001B[38;5;66;03m# GH#43986 Need to do list(mapped) in order to get treated as nested\u001B[39;00m\n\u001B[0;32m   1084\u001B[0m     \u001B[38;5;66;03m#  See also GH#25959 regarding EA support\u001B[39;00m\n\u001B[0;32m   1085\u001B[0m     \u001B[38;5;28;01mreturn\u001B[39;00m obj\u001B[38;5;241m.\u001B[39m_constructor_expanddim(\u001B[38;5;28mlist\u001B[39m(mapped), index\u001B[38;5;241m=\u001B[39mobj\u001B[38;5;241m.\u001B[39mindex)\n",
      "File \u001B[1;32m~\\AppData\\Local\\Programs\\Python\\Python311\\Lib\\site-packages\\pandas\\_libs\\lib.pyx:2834\u001B[0m, in \u001B[0;36mpandas._libs.lib.map_infer\u001B[1;34m()\u001B[0m\n",
      "Cell \u001B[1;32mIn[6], line 1\u001B[0m, in \u001B[0;36m<lambda>\u001B[1;34m(s)\u001B[0m\n\u001B[1;32m----> 1\u001B[0m csv[\u001B[38;5;124m'\u001B[39m\u001B[38;5;124mgenre\u001B[39m\u001B[38;5;124m'\u001B[39m] \u001B[38;5;241m=\u001B[39m csv[\u001B[38;5;124m'\u001B[39m\u001B[38;5;124mgenre\u001B[39m\u001B[38;5;124m'\u001B[39m]\u001B[38;5;241m.\u001B[39mapply(\u001B[38;5;28;01mlambda\u001B[39;00m s : \u001B[38;5;124m'\u001B[39m\u001B[38;5;124m'\u001B[39m\u001B[38;5;241m.\u001B[39mjoin(ch \u001B[38;5;28;01mfor\u001B[39;00m ch \u001B[38;5;129;01min\u001B[39;00m s \u001B[38;5;28;01mif\u001B[39;00m ch\u001B[38;5;241m.\u001B[39misalnum()))\n\u001B[0;32m      2\u001B[0m csv\u001B[38;5;241m.\u001B[39mhead()\n",
      "\u001B[1;31mTypeError\u001B[0m: 'float' object is not iterable"
     ]
    }
   ],
   "source": [
    "csv['genre'] = csv['genre'].apply(lambda s : ''.join(ch for ch in s if ch.isalnum()))\n",
    "csv.head()"
   ],
   "metadata": {
    "collapsed": false,
    "ExecuteTime": {
     "end_time": "2024-01-08T11:01:17.499348700Z",
     "start_time": "2024-01-08T11:01:17.446655200Z"
    }
   },
   "id": "9900d64048e57a3f"
  },
  {
   "cell_type": "code",
   "execution_count": 8,
   "outputs": [
    {
     "data": {
      "text/plain": "                       movie_title release_date      genre mpaa_rating   \n0  Snow White and the Seven Dwarfs   1937-12-21    Musical           G  \\\n1                        Pinocchio   1940-02-09  Adventure           G   \n2                         Fantasia   1940-11-13    Musical           G   \n3                Song of the South   1946-11-12  Adventure           G   \n4                       Cinderella   1950-02-15      Drama           G   \n5     20,000 Leagues Under the Sea   1954-12-23  Adventure         NaN   \n6               Lady and the Tramp   1955-06-22      Drama           G   \n7                  Sleeping Beauty   1959-01-29      Drama         NaN   \n8                   101 Dalmatians   1961-01-25     Comedy           G   \n9      The Absent Minded Professor   1961-03-16     Comedy         NaN   \n\n   total_gross  inflation_adjusted_gross                         uri  \n0    184925485                5228953251  SnowWhiteandtheSevenDwarfs  \n1     84300000                2188229052                   Pinocchio  \n2     83320000                2187090808                    Fantasia  \n3     65000000                1078510579              SongoftheSouth  \n4     85000000                 920608730                  Cinderella  \n5     28200000                 528279994     20000LeaguesUndertheSea  \n6     93600000                1236035515             LadyandtheTramp  \n7      9464608                  21505832              SleepingBeauty  \n8    153000000                1362870985               101Dalmatians  \n9     25381407                 310094574    TheAbsentMindedProfessor  ",
      "text/html": "<div>\n<style scoped>\n    .dataframe tbody tr th:only-of-type {\n        vertical-align: middle;\n    }\n\n    .dataframe tbody tr th {\n        vertical-align: top;\n    }\n\n    .dataframe thead th {\n        text-align: right;\n    }\n</style>\n<table border=\"1\" class=\"dataframe\">\n  <thead>\n    <tr style=\"text-align: right;\">\n      <th></th>\n      <th>movie_title</th>\n      <th>release_date</th>\n      <th>genre</th>\n      <th>mpaa_rating</th>\n      <th>total_gross</th>\n      <th>inflation_adjusted_gross</th>\n      <th>uri</th>\n    </tr>\n  </thead>\n  <tbody>\n    <tr>\n      <th>0</th>\n      <td>Snow White and the Seven Dwarfs</td>\n      <td>1937-12-21</td>\n      <td>Musical</td>\n      <td>G</td>\n      <td>184925485</td>\n      <td>5228953251</td>\n      <td>SnowWhiteandtheSevenDwarfs</td>\n    </tr>\n    <tr>\n      <th>1</th>\n      <td>Pinocchio</td>\n      <td>1940-02-09</td>\n      <td>Adventure</td>\n      <td>G</td>\n      <td>84300000</td>\n      <td>2188229052</td>\n      <td>Pinocchio</td>\n    </tr>\n    <tr>\n      <th>2</th>\n      <td>Fantasia</td>\n      <td>1940-11-13</td>\n      <td>Musical</td>\n      <td>G</td>\n      <td>83320000</td>\n      <td>2187090808</td>\n      <td>Fantasia</td>\n    </tr>\n    <tr>\n      <th>3</th>\n      <td>Song of the South</td>\n      <td>1946-11-12</td>\n      <td>Adventure</td>\n      <td>G</td>\n      <td>65000000</td>\n      <td>1078510579</td>\n      <td>SongoftheSouth</td>\n    </tr>\n    <tr>\n      <th>4</th>\n      <td>Cinderella</td>\n      <td>1950-02-15</td>\n      <td>Drama</td>\n      <td>G</td>\n      <td>85000000</td>\n      <td>920608730</td>\n      <td>Cinderella</td>\n    </tr>\n    <tr>\n      <th>5</th>\n      <td>20,000 Leagues Under the Sea</td>\n      <td>1954-12-23</td>\n      <td>Adventure</td>\n      <td>NaN</td>\n      <td>28200000</td>\n      <td>528279994</td>\n      <td>20000LeaguesUndertheSea</td>\n    </tr>\n    <tr>\n      <th>6</th>\n      <td>Lady and the Tramp</td>\n      <td>1955-06-22</td>\n      <td>Drama</td>\n      <td>G</td>\n      <td>93600000</td>\n      <td>1236035515</td>\n      <td>LadyandtheTramp</td>\n    </tr>\n    <tr>\n      <th>7</th>\n      <td>Sleeping Beauty</td>\n      <td>1959-01-29</td>\n      <td>Drama</td>\n      <td>NaN</td>\n      <td>9464608</td>\n      <td>21505832</td>\n      <td>SleepingBeauty</td>\n    </tr>\n    <tr>\n      <th>8</th>\n      <td>101 Dalmatians</td>\n      <td>1961-01-25</td>\n      <td>Comedy</td>\n      <td>G</td>\n      <td>153000000</td>\n      <td>1362870985</td>\n      <td>101Dalmatians</td>\n    </tr>\n    <tr>\n      <th>9</th>\n      <td>The Absent Minded Professor</td>\n      <td>1961-03-16</td>\n      <td>Comedy</td>\n      <td>NaN</td>\n      <td>25381407</td>\n      <td>310094574</td>\n      <td>TheAbsentMindedProfessor</td>\n    </tr>\n  </tbody>\n</table>\n</div>"
     },
     "execution_count": 8,
     "metadata": {},
     "output_type": "execute_result"
    }
   ],
   "source": [
    "csv.head(10)"
   ],
   "metadata": {
    "collapsed": false,
    "ExecuteTime": {
     "end_time": "2024-01-08T11:03:54.674053200Z",
     "start_time": "2024-01-08T11:03:54.611370200Z"
    }
   },
   "id": "f35229b33d3377f7"
  },
  {
   "cell_type": "code",
   "execution_count": 3,
   "outputs": [],
   "source": [
    "csv.to_csv('disney_movies_total_gross.csv', index=False)"
   ],
   "metadata": {
    "collapsed": false,
    "ExecuteTime": {
     "end_time": "2024-01-08T10:44:52.817615900Z",
     "start_time": "2024-01-08T10:44:52.774471900Z"
    }
   },
   "id": "218bcb9fd5c0eba"
  },
  {
   "cell_type": "code",
   "execution_count": 4,
   "outputs": [
    {
     "data": {
      "text/plain": "array(['Musical', 'Adventure', 'Drama', 'Comedy', nan, 'Action', 'Horror',\n       'Romantic Comedy', 'Thriller/Suspense', 'Western', 'Black Comedy',\n       'Documentary', 'Concert/Performance'], dtype=object)"
     },
     "execution_count": 4,
     "metadata": {},
     "output_type": "execute_result"
    }
   ],
   "source": [
    "csv['genre'].unique()"
   ],
   "metadata": {
    "collapsed": false,
    "ExecuteTime": {
     "end_time": "2024-01-08T10:58:34.692110600Z",
     "start_time": "2024-01-08T10:58:34.664011800Z"
    }
   },
   "id": "39e714680857b0e0"
  }
 ],
 "metadata": {
  "kernelspec": {
   "display_name": "Python 3",
   "language": "python",
   "name": "python3"
  },
  "language_info": {
   "codemirror_mode": {
    "name": "ipython",
    "version": 2
   },
   "file_extension": ".py",
   "mimetype": "text/x-python",
   "name": "python",
   "nbconvert_exporter": "python",
   "pygments_lexer": "ipython2",
   "version": "2.7.6"
  }
 },
 "nbformat": 4,
 "nbformat_minor": 5
}
