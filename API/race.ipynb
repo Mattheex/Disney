{
 "cells": [
  {
   "cell_type": "code",
   "execution_count": 5,
   "metadata": {
    "ExecuteTime": {
     "end_time": "2024-01-19T12:21:32.461986400Z",
     "start_time": "2024-01-19T12:21:32.302636800Z"
    }
   },
   "outputs": [],
   "source": [
    "import json\n",
    "import time\n",
    "\n",
    "import requests\n",
    "from rdflib import Graph, URIRef, Literal, Namespace\n",
    "from tqdm import tqdm\n",
    "from rdflib.namespace import RDF, SKOS,RDFS,SDO,OWL"
   ]
  },
  {
   "cell_type": "code",
   "execution_count": 6,
   "metadata": {
    "ExecuteTime": {
     "end_time": "2024-01-19T12:21:35.490318900Z",
     "start_time": "2024-01-19T12:21:35.465858800Z"
    }
   },
   "outputs": [],
   "source": [
    "g = Graph()\n",
    "#space = \"http://projet.fr/perso/\"\n",
    "api = \"http://localhost/html/preprocessId.php?name=\"\n",
    "\n",
    "errors = []\n",
    "#g.bind(\"\", \"http://projet.fr/perso#\")\n",
    "\n",
    "#ns_perso_data = Namespace(space)\n",
    "#ns_perso_schema = Namespace('\"http://projet.fr/perso/\"')\n",
    "\"\"\"g.bind(\"skos\", SKOS)\n",
    "g.bind(\"owl\", OWL)\n",
    "g.bind(\"rdfs\", RDFS)\"\"\"\n",
    "\n",
    "#ns_film_data = Namespace('http://projet.fr/films_data/')\n",
    "#ns_film_schema = Namespace('http://projet.fr/films_schema/')\n",
    "ns_perso_schema = Namespace('http://projet.fr/perso_schema/')\n",
    "ns_perso_data = Namespace('http://projet.fr/perso_data/')\n",
    "\n",
    "g.bind('p_schema', ns_perso_schema)\n",
    "g.bind(\"\", ns_perso_data)\n",
    "\n",
    "\n",
    "def getHero(k):\n",
    "    url = api + str(k)\n",
    "    reponse = requests.get(url)\n",
    "    content = reponse.content\n",
    "    y = json.loads(content)[0]\n",
    "    return y\n",
    "\n",
    "def getRace(y):\n",
    "    race = y[\"appearance\"][\"race\"]\n",
    "    if race!=\"\" and race!=\"-\" and race!=\"null\":\n",
    "        raceNode = ns_perso_data[''.join(letter for letter in race.lower() if letter.isalnum())]\n",
    "        g.add((raceNode, SKOS.prefLabel, Literal(race)))\n",
    "        g.add((raceNode, RDF.type, SKOS.Concept))\n",
    "        g.add((raceNode,RDFS.subClassOf,ns_perso_schema[\"Race\"]))\n",
    "\n",
    "def getRelatives(y):\n",
    "    relatives = y[\"connections\"][\"relatives\"]\n",
    "    for relative in relatives:\n",
    "        relativeNode = ns_perso_data['P' + ''.join(letter for letter in relative.lower() if letter.isalnum())]\n",
    "        g.add((relativeNode, SDO.name, Literal(relative)))\n",
    "        g.add((relativeNode, RDF.type, ns_perso_schema[\"Character\"]))\n",
    "        g.add((relativeNode, RDF.type, SDO.Person))\n",
    "\n",
    "\n",
    "\n",
    "def getHeroNode(y):\n",
    "    superName = y[\"name\"]\n",
    "    name = y[\"biography\"][\"full-name\"]\n",
    "    id = name.lower() + superName.lower()\n",
    "    heroNode = ns_perso_data['H'+''.join(letter for letter in id  if letter.isalnum())]\n",
    "    conceptNode = ns_perso_data['C'+''.join(letter for letter in superName if letter.isalnum())]\n",
    "    persoNode = ns_perso_data['P'+''.join(letter for letter in id if letter.isalnum())]\n",
    "    g.add((heroNode, SDO.name, Literal(superName)))\n",
    "    g.add((conceptNode, RDFS.subClassOf, ns_perso_schema[\"Character\"]))\n",
    "    g.add((conceptNode, RDF.type, SKOS.Concept))\n",
    "    g.add((conceptNode, SKOS.prefLabel, Literal(superName)))\n",
    "    if name != \"\":\n",
    "        g.add((persoNode, SDO.name, Literal(name)))\n",
    "    g.add((persoNode, RDF.type, ns_perso_schema[\"Character\"]))\n",
    "    g.add((persoNode, RDF.type, ns_perso_schema[\"Fictional\"]))\n",
    "    g.add((persoNode, RDF.type, SDO.Person))\n",
    "    g.add((heroNode, RDF.type, ns_perso_schema[\"Character\"]))\n",
    "    g.add((heroNode, RDF.type, ns_perso_schema[\"Fictional\"]))\n",
    "    g.add((heroNode, RDF.type, SDO.Person))\n",
    "\n",
    "\n",
    "def getPublisher(y):\n",
    "    publisher = y[\"biography\"][\"publisher\"]\n",
    "    publisherNode = ns_perso_data[''.join(letter for letter in publisher.lower() if letter.isalnum())]\n",
    "    g.add((publisherNode, RDF.type, SKOS.Concept))\n",
    "    g.add((publisherNode, RDFS.subClassOf, ns_perso_schema['Publisher']))\n",
    "    g.add((publisherNode, SKOS.prefLabel, Literal(publisher)))\n",
    "\n",
    "\n",
    "def getColor(y):\n",
    "    colorsEye = y[\"appearance\"][\"eye-color\"]\n",
    "    colorsHair = y[\"appearance\"][\"hair-color\"]\n",
    "    for colorEye in colorsEye:\n",
    "        eyeNode = ns_perso_data[''.join(letter for letter in colorEye if letter.isalnum())]\n",
    "        g.add((eyeNode, SKOS.prefLabel, Literal(colorEye)))\n",
    "        g.add((eyeNode, RDFS.subClassOf, ns_perso_schema['Color']))\n",
    "        g.add((eyeNode, RDF.type, SKOS.Concept))\n",
    "    for colorHair in colorsHair:\n",
    "        hairNode = ns_perso_data[''.join(letter for letter in colorHair if letter.isalnum())]\n",
    "        g.add((hairNode, RDF.type, SKOS.Concept))\n",
    "        g.add((hairNode, SKOS.prefLabel, Literal(colorHair)))\n",
    "        g.add((hairNode, RDFS.subClassOf, ns_perso_schema['Color']))\n",
    "\n",
    "\n",
    "def getOccupation(y):\n",
    "    occupations = y[\"work\"][\"occupation\"]\n",
    "    for occupation in occupations:\n",
    "        occupationNode = ns_perso_data[''.join(letter for letter in occupation if letter.isalnum())]\n",
    "        g.add((occupationNode, RDF.type, SKOS.Concept))\n",
    "        g.add((occupationNode, SKOS.prefLabel, Literal(occupation)))\n",
    "        g.add((occupationNode, RDFS.subClassOf, ns_perso_schema['Occupation']))\n",
    "\n",
    "\n",
    "\n",
    "\n",
    "\n",
    "def createNodes(k):\n",
    "    try:   \n",
    "        y = getHero(k)\n",
    "    except Exception as e:\n",
    "        print(e)\n",
    "        errors.append(e)\n",
    "    else:\n",
    "        getHeroNode(y)\n",
    "        getOccupation(y)\n",
    "        getColor(y)\n",
    "        getRace(y)\n",
    "\n",
    "\n"
   ]
  },
  {
   "cell_type": "code",
   "execution_count": 7,
   "metadata": {
    "ExecuteTime": {
     "end_time": "2024-01-19T12:39:00.624030900Z",
     "start_time": "2024-01-19T12:21:38.159984300Z"
    }
   },
   "outputs": [
    {
     "name": "stderr",
     "output_type": "stream",
     "text": [
      "  0%|          | 0/731 [00:00<?, ?it/s]"
     ]
    },
    {
     "name": "stderr",
     "output_type": "stream",
     "text": [
      " 38%|███▊      | 279/731 [04:54<08:06,  1.08s/it]"
     ]
    },
    {
     "name": "stdout",
     "output_type": "stream",
     "text": [
      "Expecting value: line 1 column 1 (char 0)\n"
     ]
    },
    {
     "name": "stderr",
     "output_type": "stream",
     "text": [
      " 67%|██████▋   | 491/731 [08:37<04:28,  1.12s/it]"
     ]
    },
    {
     "name": "stdout",
     "output_type": "stream",
     "text": [
      "Expecting value: line 1 column 1 (char 0)\n"
     ]
    },
    {
     "name": "stderr",
     "output_type": "stream",
     "text": [
      "100%|██████████| 731/731 [12:49<00:00,  1.05s/it]\n"
     ]
    },
    {
     "data": {
      "text/plain": [
       "<Graph identifier=Nd98fff1b7bcf4f3fad1f346aefd5f3d0 (<class 'rdflib.graph.Graph'>)>"
      ]
     },
     "execution_count": 7,
     "metadata": {},
     "output_type": "execute_result"
    }
   ],
   "source": [
    "for k in tqdm(range(1, 732)):\n",
    "    createNodes(k)\n",
    "    time.sleep(0.1)\n",
    "\n",
    "g.serialize(destination=\"database.ttl\", format=\"turtle\")"
   ]
  }
 ],
 "metadata": {
  "kernelspec": {
   "display_name": "base",
   "language": "python",
   "name": "python3"
  },
  "language_info": {
   "codemirror_mode": {
    "name": "ipython",
    "version": 3
   },
   "file_extension": ".py",
   "mimetype": "text/x-python",
   "name": "python",
   "nbconvert_exporter": "python",
   "pygments_lexer": "ipython3",
   "version": "3.10.10"
  }
 },
 "nbformat": 4,
 "nbformat_minor": 2
}
