{
 "cells": [
  {
   "cell_type": "code",
   "execution_count": 1,
   "id": "initial_id",
   "metadata": {
    "collapsed": true,
    "ExecuteTime": {
     "end_time": "2024-01-18T12:40:28.930198800Z",
     "start_time": "2024-01-18T12:40:28.596627700Z"
    }
   },
   "outputs": [],
   "source": [
    "import rdflib\n",
    "import rdflib.term\n",
    "from rdflib import Graph, Namespace, RDF, OWL"
   ]
  },
  {
   "cell_type": "code",
   "execution_count": 2,
   "outputs": [],
   "source": [
    "def calculate_similarity_percentage(list1, list2):\n",
    "    # Convert lists to sets for efficient intersection calculation\n",
    "    set1 = set(list1)\n",
    "    set2 = set(list2)\n",
    "\n",
    "    # Calculate the intersection (common elements) between the two sets\n",
    "    common_elements = set1.intersection(set2)\n",
    "\n",
    "    # Calculate the percentage of similarity\n",
    "    similarity_percentage = (len(common_elements) / len(set1.union(set2))) * 100\n",
    "\n",
    "    return similarity_percentage"
   ],
   "metadata": {
    "collapsed": false,
    "ExecuteTime": {
     "end_time": "2024-01-18T12:40:28.936095900Z",
     "start_time": "2024-01-18T12:40:28.867692600Z"
    }
   },
   "id": "4aa4c44c61510e4f"
  },
  {
   "cell_type": "code",
   "execution_count": 11,
   "outputs": [
    {
     "name": "stdout",
     "output_type": "stream",
     "text": [
      "score {'score': 22.22222222222222, 'text': rdflib.term.URIRef('http://projet.fr/text/Captain_America'), 'csv': rdflib.term.URIRef('http://projet.fr/films_data/26')}\n"
     ]
    }
   ],
   "source": [
    "csv = Graph()\n",
    "csv.parse(\"CSV/modified_movie.ttl\")\n",
    "\n",
    "text = Graph()\n",
    "text.parse('Extract_Text/extracted_text.ttl')\n",
    "ns_film_data = Namespace('http://projet.fr/films_data/')\n",
    "ns_film_schema = Namespace('http://projet.fr/films_schema/')\n",
    "ns_perso_schema = Namespace('http://projet.fr/perso_schema/')\n",
    "ns_text = Namespace('http://projet.fr/text/')\n",
    "\n",
    "csv.bind('p_schema', ns_perso_schema)\n",
    "csv.bind('f_schema', ns_film_schema)\n",
    "csv.bind(\"\", ns_film_data)\n",
    "\n",
    "schema = Graph()\n",
    "schema.parse('schema_film.ttl')\n",
    "\n",
    "best = {'score': -1, 'text': '', 'csv': ''}\n",
    "\n",
    "for subj, pred, obj in text.triples((None, RDF.type, None)):\n",
    "    for t_subj, t_pred, t_obj in csv.triples((None, RDF.type, ns_film_schema.CreativeWork)):\n",
    "\n",
    "        cast = [o.split('/')[-1] for s, p, o in text.triples((subj, ns_text.cast_member, None))]\n",
    "\n",
    "        title = text.value(subj, ns_text.name)\n",
    "        stars = [o.split('/')[-1] for s, p, o in csv.triples((t_subj, ns_film_schema.stars, None))]\n",
    "\n",
    "        cast.sort()\n",
    "        stars.sort()\n",
    "\n",
    "        if len(stars) != 0 and len(cast) != 0:\n",
    "            score = calculate_similarity_percentage(cast, stars)\n",
    "\n",
    "            if best['score'] < score:\n",
    "                best['score'] = score\n",
    "                best['text'] = subj\n",
    "                best['csv'] = t_subj\n",
    "\n",
    "print(f'score {best}')\n",
    "\n",
    "for subj, pred, obj in text.triples((None, ns_text.performer, None)):\n",
    "    if len(list(text.triples((best['text'], None, subj)))) != 0 or len(list(text.triples((subj, None, best['text'])))) != 0:\n",
    "        text.add((best['text'], ns_text.characters, subj))\n",
    "        text.add((subj, ns_text.present_in_work, best['text']))"
   ],
   "metadata": {
    "collapsed": false,
    "ExecuteTime": {
     "end_time": "2024-01-18T12:57:07.714988Z",
     "start_time": "2024-01-18T12:57:07.518915600Z"
    }
   },
   "id": "eb2bf3923d6a6cd"
  },
  {
   "cell_type": "code",
   "outputs": [
    {
     "data": {
      "text/plain": "<Graph identifier=N8d76b76ac68a4d0a9b966722e85d6e77 (<class 'rdflib.graph.Graph'>)>"
     },
     "execution_count": 7,
     "metadata": {},
     "output_type": "execute_result"
    }
   ],
   "source": [
    "text.serialize(destination=\"modified_text.ttl\", format=\"turtle\")"
   ],
   "metadata": {
    "collapsed": false,
    "ExecuteTime": {
     "end_time": "2024-01-18T12:48:24.224314900Z",
     "start_time": "2024-01-18T12:48:24.128508500Z"
    }
   },
   "id": "5595747a0e238e9e",
   "execution_count": 7
  },
  {
   "cell_type": "code",
   "outputs": [
    {
     "name": "stdout",
     "output_type": "stream",
     "text": [
      "[]\n",
      "http://projet.fr/text/Dominic_Cooper\n",
      "http://projet.fr/text/Node\n",
      "Dominic Cooper\n",
      "[(rdflib.term.URIRef('http://projet.fr/text/Captain_America'), rdflib.term.URIRef('http://projet.fr/text/cast_member'), rdflib.term.URIRef('http://projet.fr/text/Dominic_Cooper')), (rdflib.term.URIRef('http://projet.fr/text/Dominic_Cooper'), rdflib.term.URIRef('http://www.w3.org/1999/02/22-rdf-syntax-ns#type'), rdflib.term.URIRef('http://projet.fr/text/Node')), (rdflib.term.URIRef('http://projet.fr/text/Dominic_Cooper'), rdflib.term.URIRef('http://projet.fr/text/name'), rdflib.term.Literal('Dominic Cooper'))]\n",
      "http://projet.fr/text/Hayley_Atwell\n",
      "http://projet.fr/text/Node\n",
      "Hayley Atwell\n",
      "[(rdflib.term.URIRef('http://projet.fr/text/Captain_America'), rdflib.term.URIRef('http://projet.fr/text/cast_member'), rdflib.term.URIRef('http://projet.fr/text/Dominic_Cooper')), (rdflib.term.URIRef('http://projet.fr/text/Dominic_Cooper'), rdflib.term.URIRef('http://www.w3.org/1999/02/22-rdf-syntax-ns#type'), rdflib.term.URIRef('http://projet.fr/text/Node')), (rdflib.term.URIRef('http://projet.fr/text/Dominic_Cooper'), rdflib.term.URIRef('http://projet.fr/text/name'), rdflib.term.Literal('Dominic Cooper')), (rdflib.term.URIRef('http://projet.fr/text/Captain_America'), rdflib.term.URIRef('http://projet.fr/text/cast_member'), rdflib.term.URIRef('http://projet.fr/text/Hayley_Atwell')), (rdflib.term.URIRef('http://projet.fr/text/Hayley_Atwell'), rdflib.term.URIRef('http://www.w3.org/1999/02/22-rdf-syntax-ns#type'), rdflib.term.URIRef('http://projet.fr/text/Node')), (rdflib.term.URIRef('http://projet.fr/text/Hayley_Atwell'), rdflib.term.URIRef('http://projet.fr/text/name'), rdflib.term.Literal('Hayley Atwell'))]\n",
      "http://projet.fr/text/Hugo_Weaving\n",
      "http://projet.fr/text/Node\n",
      "Hugo Weaving\n",
      "[(rdflib.term.URIRef('http://projet.fr/text/Captain_America'), rdflib.term.URIRef('http://projet.fr/text/cast_member'), rdflib.term.URIRef('http://projet.fr/text/Dominic_Cooper')), (rdflib.term.URIRef('http://projet.fr/text/Dominic_Cooper'), rdflib.term.URIRef('http://www.w3.org/1999/02/22-rdf-syntax-ns#type'), rdflib.term.URIRef('http://projet.fr/text/Node')), (rdflib.term.URIRef('http://projet.fr/text/Dominic_Cooper'), rdflib.term.URIRef('http://projet.fr/text/name'), rdflib.term.Literal('Dominic Cooper')), (rdflib.term.URIRef('http://projet.fr/text/Captain_America'), rdflib.term.URIRef('http://projet.fr/text/cast_member'), rdflib.term.URIRef('http://projet.fr/text/Hayley_Atwell')), (rdflib.term.URIRef('http://projet.fr/text/Hayley_Atwell'), rdflib.term.URIRef('http://www.w3.org/1999/02/22-rdf-syntax-ns#type'), rdflib.term.URIRef('http://projet.fr/text/Node')), (rdflib.term.URIRef('http://projet.fr/text/Hayley_Atwell'), rdflib.term.URIRef('http://projet.fr/text/name'), rdflib.term.Literal('Hayley Atwell')), (rdflib.term.URIRef('http://projet.fr/text/Captain_America'), rdflib.term.URIRef('http://projet.fr/text/cast_member'), rdflib.term.URIRef('http://projet.fr/text/Hugo_Weaving')), (rdflib.term.URIRef('http://projet.fr/text/Hugo_Weaving'), rdflib.term.URIRef('http://www.w3.org/1999/02/22-rdf-syntax-ns#type'), rdflib.term.URIRef('http://projet.fr/text/Node')), (rdflib.term.URIRef('http://projet.fr/text/Hugo_Weaving'), rdflib.term.URIRef('http://projet.fr/text/name'), rdflib.term.Literal('Hugo Weaving'))]\n",
      "http://projet.fr/text/Neal_McDon\n",
      "http://projet.fr/text/Node\n",
      "Neal McDon\n",
      "[(rdflib.term.URIRef('http://projet.fr/text/Captain_America'), rdflib.term.URIRef('http://projet.fr/text/cast_member'), rdflib.term.URIRef('http://projet.fr/text/Dominic_Cooper')), (rdflib.term.URIRef('http://projet.fr/text/Dominic_Cooper'), rdflib.term.URIRef('http://www.w3.org/1999/02/22-rdf-syntax-ns#type'), rdflib.term.URIRef('http://projet.fr/text/Node')), (rdflib.term.URIRef('http://projet.fr/text/Dominic_Cooper'), rdflib.term.URIRef('http://projet.fr/text/name'), rdflib.term.Literal('Dominic Cooper')), (rdflib.term.URIRef('http://projet.fr/text/Captain_America'), rdflib.term.URIRef('http://projet.fr/text/cast_member'), rdflib.term.URIRef('http://projet.fr/text/Hayley_Atwell')), (rdflib.term.URIRef('http://projet.fr/text/Hayley_Atwell'), rdflib.term.URIRef('http://www.w3.org/1999/02/22-rdf-syntax-ns#type'), rdflib.term.URIRef('http://projet.fr/text/Node')), (rdflib.term.URIRef('http://projet.fr/text/Hayley_Atwell'), rdflib.term.URIRef('http://projet.fr/text/name'), rdflib.term.Literal('Hayley Atwell')), (rdflib.term.URIRef('http://projet.fr/text/Captain_America'), rdflib.term.URIRef('http://projet.fr/text/cast_member'), rdflib.term.URIRef('http://projet.fr/text/Hugo_Weaving')), (rdflib.term.URIRef('http://projet.fr/text/Hugo_Weaving'), rdflib.term.URIRef('http://www.w3.org/1999/02/22-rdf-syntax-ns#type'), rdflib.term.URIRef('http://projet.fr/text/Node')), (rdflib.term.URIRef('http://projet.fr/text/Hugo_Weaving'), rdflib.term.URIRef('http://projet.fr/text/name'), rdflib.term.Literal('Hugo Weaving')), (rdflib.term.URIRef('http://projet.fr/text/Captain_America'), rdflib.term.URIRef('http://projet.fr/text/cast_member'), rdflib.term.URIRef('http://projet.fr/text/Neal_McDon')), (rdflib.term.URIRef('http://projet.fr/text/Neal_McDon'), rdflib.term.URIRef('http://www.w3.org/1999/02/22-rdf-syntax-ns#type'), rdflib.term.URIRef('http://projet.fr/text/Node')), (rdflib.term.URIRef('http://projet.fr/text/Neal_McDon'), rdflib.term.URIRef('http://projet.fr/text/name'), rdflib.term.Literal('Neal McDon'))]\n",
      "http://projet.fr/text/Sebastian_Stan\n",
      "http://projet.fr/text/Node\n",
      "Sebastian Stan\n",
      "[(rdflib.term.URIRef('http://projet.fr/text/Captain_America'), rdflib.term.URIRef('http://projet.fr/text/cast_member'), rdflib.term.URIRef('http://projet.fr/text/Dominic_Cooper')), (rdflib.term.URIRef('http://projet.fr/text/Dominic_Cooper'), rdflib.term.URIRef('http://www.w3.org/1999/02/22-rdf-syntax-ns#type'), rdflib.term.URIRef('http://projet.fr/text/Node')), (rdflib.term.URIRef('http://projet.fr/text/Dominic_Cooper'), rdflib.term.URIRef('http://projet.fr/text/name'), rdflib.term.Literal('Dominic Cooper')), (rdflib.term.URIRef('http://projet.fr/text/Captain_America'), rdflib.term.URIRef('http://projet.fr/text/cast_member'), rdflib.term.URIRef('http://projet.fr/text/Hayley_Atwell')), (rdflib.term.URIRef('http://projet.fr/text/Hayley_Atwell'), rdflib.term.URIRef('http://www.w3.org/1999/02/22-rdf-syntax-ns#type'), rdflib.term.URIRef('http://projet.fr/text/Node')), (rdflib.term.URIRef('http://projet.fr/text/Hayley_Atwell'), rdflib.term.URIRef('http://projet.fr/text/name'), rdflib.term.Literal('Hayley Atwell')), (rdflib.term.URIRef('http://projet.fr/text/Captain_America'), rdflib.term.URIRef('http://projet.fr/text/cast_member'), rdflib.term.URIRef('http://projet.fr/text/Hugo_Weaving')), (rdflib.term.URIRef('http://projet.fr/text/Hugo_Weaving'), rdflib.term.URIRef('http://www.w3.org/1999/02/22-rdf-syntax-ns#type'), rdflib.term.URIRef('http://projet.fr/text/Node')), (rdflib.term.URIRef('http://projet.fr/text/Hugo_Weaving'), rdflib.term.URIRef('http://projet.fr/text/name'), rdflib.term.Literal('Hugo Weaving')), (rdflib.term.URIRef('http://projet.fr/text/Captain_America'), rdflib.term.URIRef('http://projet.fr/text/cast_member'), rdflib.term.URIRef('http://projet.fr/text/Neal_McDon')), (rdflib.term.URIRef('http://projet.fr/text/Neal_McDon'), rdflib.term.URIRef('http://www.w3.org/1999/02/22-rdf-syntax-ns#type'), rdflib.term.URIRef('http://projet.fr/text/Node')), (rdflib.term.URIRef('http://projet.fr/text/Neal_McDon'), rdflib.term.URIRef('http://projet.fr/text/name'), rdflib.term.Literal('Neal McDon')), (rdflib.term.URIRef('http://projet.fr/text/Captain_America'), rdflib.term.URIRef('http://projet.fr/text/cast_member'), rdflib.term.URIRef('http://projet.fr/text/Sebastian_Stan')), (rdflib.term.URIRef('http://projet.fr/text/Sebastian_Stan'), rdflib.term.URIRef('http://www.w3.org/1999/02/22-rdf-syntax-ns#type'), rdflib.term.URIRef('http://projet.fr/text/Node')), (rdflib.term.URIRef('http://projet.fr/text/Sebastian_Stan'), rdflib.term.URIRef('http://projet.fr/text/name'), rdflib.term.Literal('Sebastian Stan'))]\n",
      "http://projet.fr/text/Tommy_Lee_Jones\n",
      "http://projet.fr/text/Node\n",
      "Tommy Lee Jones\n",
      "[(rdflib.term.URIRef('http://projet.fr/text/Captain_America'), rdflib.term.URIRef('http://projet.fr/text/cast_member'), rdflib.term.URIRef('http://projet.fr/text/Dominic_Cooper')), (rdflib.term.URIRef('http://projet.fr/text/Dominic_Cooper'), rdflib.term.URIRef('http://www.w3.org/1999/02/22-rdf-syntax-ns#type'), rdflib.term.URIRef('http://projet.fr/text/Node')), (rdflib.term.URIRef('http://projet.fr/text/Dominic_Cooper'), rdflib.term.URIRef('http://projet.fr/text/name'), rdflib.term.Literal('Dominic Cooper')), (rdflib.term.URIRef('http://projet.fr/text/Captain_America'), rdflib.term.URIRef('http://projet.fr/text/cast_member'), rdflib.term.URIRef('http://projet.fr/text/Hayley_Atwell')), (rdflib.term.URIRef('http://projet.fr/text/Hayley_Atwell'), rdflib.term.URIRef('http://www.w3.org/1999/02/22-rdf-syntax-ns#type'), rdflib.term.URIRef('http://projet.fr/text/Node')), (rdflib.term.URIRef('http://projet.fr/text/Hayley_Atwell'), rdflib.term.URIRef('http://projet.fr/text/name'), rdflib.term.Literal('Hayley Atwell')), (rdflib.term.URIRef('http://projet.fr/text/Captain_America'), rdflib.term.URIRef('http://projet.fr/text/cast_member'), rdflib.term.URIRef('http://projet.fr/text/Hugo_Weaving')), (rdflib.term.URIRef('http://projet.fr/text/Hugo_Weaving'), rdflib.term.URIRef('http://www.w3.org/1999/02/22-rdf-syntax-ns#type'), rdflib.term.URIRef('http://projet.fr/text/Node')), (rdflib.term.URIRef('http://projet.fr/text/Hugo_Weaving'), rdflib.term.URIRef('http://projet.fr/text/name'), rdflib.term.Literal('Hugo Weaving')), (rdflib.term.URIRef('http://projet.fr/text/Captain_America'), rdflib.term.URIRef('http://projet.fr/text/cast_member'), rdflib.term.URIRef('http://projet.fr/text/Neal_McDon')), (rdflib.term.URIRef('http://projet.fr/text/Neal_McDon'), rdflib.term.URIRef('http://www.w3.org/1999/02/22-rdf-syntax-ns#type'), rdflib.term.URIRef('http://projet.fr/text/Node')), (rdflib.term.URIRef('http://projet.fr/text/Neal_McDon'), rdflib.term.URIRef('http://projet.fr/text/name'), rdflib.term.Literal('Neal McDon')), (rdflib.term.URIRef('http://projet.fr/text/Captain_America'), rdflib.term.URIRef('http://projet.fr/text/cast_member'), rdflib.term.URIRef('http://projet.fr/text/Sebastian_Stan')), (rdflib.term.URIRef('http://projet.fr/text/Sebastian_Stan'), rdflib.term.URIRef('http://www.w3.org/1999/02/22-rdf-syntax-ns#type'), rdflib.term.URIRef('http://projet.fr/text/Node')), (rdflib.term.URIRef('http://projet.fr/text/Sebastian_Stan'), rdflib.term.URIRef('http://projet.fr/text/name'), rdflib.term.Literal('Sebastian Stan')), (rdflib.term.URIRef('http://projet.fr/text/Captain_America'), rdflib.term.URIRef('http://projet.fr/text/cast_member'), rdflib.term.URIRef('http://projet.fr/text/Tommy_Lee_Jones')), (rdflib.term.URIRef('http://projet.fr/text/Tommy_Lee_Jones'), rdflib.term.URIRef('http://www.w3.org/1999/02/22-rdf-syntax-ns#type'), rdflib.term.URIRef('http://projet.fr/text/Node')), (rdflib.term.URIRef('http://projet.fr/text/Tommy_Lee_Jones'), rdflib.term.URIRef('http://projet.fr/text/name'), rdflib.term.Literal('Tommy Lee Jones'))]\n",
      "http://projet.fr/text/Bucky_Barnes\n",
      "http://projet.fr/text/Node\n",
      "http://projet.fr/text/World_War_II\n",
      "http://projet.fr/text/Node\n",
      "World War II\n",
      "Bucky Barnes\n",
      "http://projet.fr/text/Dominic_Cooper\n",
      "http://projet.fr/text/Captain_America\n",
      "http://projet.fr/text/Node\n",
      "http://projet.fr/text/Steve_Rogers\n",
      "http://projet.fr/text/Node\n",
      "Steve Rogers\n",
      "http://projet.fr/text/Chris_Evans\n",
      "http://projet.fr/text/Node\n",
      "Chris Evans\n",
      "http://projet.fr/text/Captain_America\n",
      "Captain America\n",
      "July 29, 2011\n",
      "[(rdflib.term.URIRef('http://projet.fr/text/Captain_America'), rdflib.term.URIRef('http://projet.fr/text/cast_member'), rdflib.term.URIRef('http://projet.fr/text/Dominic_Cooper')), (rdflib.term.URIRef('http://projet.fr/text/Dominic_Cooper'), rdflib.term.URIRef('http://www.w3.org/1999/02/22-rdf-syntax-ns#type'), rdflib.term.URIRef('http://projet.fr/text/Node')), (rdflib.term.URIRef('http://projet.fr/text/Dominic_Cooper'), rdflib.term.URIRef('http://projet.fr/text/name'), rdflib.term.Literal('Dominic Cooper')), (rdflib.term.URIRef('http://projet.fr/text/Captain_America'), rdflib.term.URIRef('http://projet.fr/text/cast_member'), rdflib.term.URIRef('http://projet.fr/text/Hayley_Atwell')), (rdflib.term.URIRef('http://projet.fr/text/Hayley_Atwell'), rdflib.term.URIRef('http://www.w3.org/1999/02/22-rdf-syntax-ns#type'), rdflib.term.URIRef('http://projet.fr/text/Node')), (rdflib.term.URIRef('http://projet.fr/text/Hayley_Atwell'), rdflib.term.URIRef('http://projet.fr/text/name'), rdflib.term.Literal('Hayley Atwell')), (rdflib.term.URIRef('http://projet.fr/text/Captain_America'), rdflib.term.URIRef('http://projet.fr/text/cast_member'), rdflib.term.URIRef('http://projet.fr/text/Hugo_Weaving')), (rdflib.term.URIRef('http://projet.fr/text/Hugo_Weaving'), rdflib.term.URIRef('http://www.w3.org/1999/02/22-rdf-syntax-ns#type'), rdflib.term.URIRef('http://projet.fr/text/Node')), (rdflib.term.URIRef('http://projet.fr/text/Hugo_Weaving'), rdflib.term.URIRef('http://projet.fr/text/name'), rdflib.term.Literal('Hugo Weaving')), (rdflib.term.URIRef('http://projet.fr/text/Captain_America'), rdflib.term.URIRef('http://projet.fr/text/cast_member'), rdflib.term.URIRef('http://projet.fr/text/Neal_McDon')), (rdflib.term.URIRef('http://projet.fr/text/Neal_McDon'), rdflib.term.URIRef('http://www.w3.org/1999/02/22-rdf-syntax-ns#type'), rdflib.term.URIRef('http://projet.fr/text/Node')), (rdflib.term.URIRef('http://projet.fr/text/Neal_McDon'), rdflib.term.URIRef('http://projet.fr/text/name'), rdflib.term.Literal('Neal McDon')), (rdflib.term.URIRef('http://projet.fr/text/Captain_America'), rdflib.term.URIRef('http://projet.fr/text/cast_member'), rdflib.term.URIRef('http://projet.fr/text/Sebastian_Stan')), (rdflib.term.URIRef('http://projet.fr/text/Sebastian_Stan'), rdflib.term.URIRef('http://www.w3.org/1999/02/22-rdf-syntax-ns#type'), rdflib.term.URIRef('http://projet.fr/text/Node')), (rdflib.term.URIRef('http://projet.fr/text/Sebastian_Stan'), rdflib.term.URIRef('http://projet.fr/text/name'), rdflib.term.Literal('Sebastian Stan')), (rdflib.term.URIRef('http://projet.fr/text/Captain_America'), rdflib.term.URIRef('http://projet.fr/text/cast_member'), rdflib.term.URIRef('http://projet.fr/text/Tommy_Lee_Jones')), (rdflib.term.URIRef('http://projet.fr/text/Tommy_Lee_Jones'), rdflib.term.URIRef('http://www.w3.org/1999/02/22-rdf-syntax-ns#type'), rdflib.term.URIRef('http://projet.fr/text/Node')), (rdflib.term.URIRef('http://projet.fr/text/Tommy_Lee_Jones'), rdflib.term.URIRef('http://projet.fr/text/name'), rdflib.term.Literal('Tommy Lee Jones')), (rdflib.term.URIRef('http://projet.fr/text/Captain_America'), rdflib.term.URIRef('http://projet.fr/text/characters'), rdflib.term.URIRef('http://projet.fr/text/Bucky_Barnes')), (rdflib.term.URIRef('http://projet.fr/text/Bucky_Barnes'), rdflib.term.URIRef('http://www.w3.org/1999/02/22-rdf-syntax-ns#type'), rdflib.term.URIRef('http://projet.fr/text/Node')), (rdflib.term.URIRef('http://projet.fr/text/Bucky_Barnes'), rdflib.term.URIRef('http://projet.fr/text/conflict'), rdflib.term.URIRef('http://projet.fr/text/World_War_II')), (rdflib.term.URIRef('http://projet.fr/text/World_War_II'), rdflib.term.URIRef('http://www.w3.org/1999/02/22-rdf-syntax-ns#type'), rdflib.term.URIRef('http://projet.fr/text/Node')), (rdflib.term.URIRef('http://projet.fr/text/World_War_II'), rdflib.term.URIRef('http://projet.fr/text/name'), rdflib.term.Literal('World War II')), (rdflib.term.URIRef('http://projet.fr/text/Bucky_Barnes'), rdflib.term.URIRef('http://projet.fr/text/name'), rdflib.term.Literal('Bucky Barnes')), (rdflib.term.URIRef('http://projet.fr/text/Bucky_Barnes'), rdflib.term.URIRef('http://projet.fr/text/performer'), rdflib.term.URIRef('http://projet.fr/text/Dominic_Cooper')), (rdflib.term.URIRef('http://projet.fr/text/Bucky_Barnes'), rdflib.term.URIRef('http://projet.fr/text/present_in_work'), rdflib.term.URIRef('http://projet.fr/text/Captain_America')), (rdflib.term.URIRef('http://projet.fr/text/Captain_America'), rdflib.term.URIRef('http://www.w3.org/1999/02/22-rdf-syntax-ns#type'), rdflib.term.URIRef('http://projet.fr/text/Node')), (rdflib.term.URIRef('http://projet.fr/text/Captain_America'), rdflib.term.URIRef('http://projet.fr/text/characters'), rdflib.term.URIRef('http://projet.fr/text/Steve_Rogers')), (rdflib.term.URIRef('http://projet.fr/text/Steve_Rogers'), rdflib.term.URIRef('http://www.w3.org/1999/02/22-rdf-syntax-ns#type'), rdflib.term.URIRef('http://projet.fr/text/Node')), (rdflib.term.URIRef('http://projet.fr/text/Steve_Rogers'), rdflib.term.URIRef('http://projet.fr/text/name'), rdflib.term.Literal('Steve Rogers')), (rdflib.term.URIRef('http://projet.fr/text/Steve_Rogers'), rdflib.term.URIRef('http://projet.fr/text/performer'), rdflib.term.URIRef('http://projet.fr/text/Chris_Evans')), (rdflib.term.URIRef('http://projet.fr/text/Chris_Evans'), rdflib.term.URIRef('http://www.w3.org/1999/02/22-rdf-syntax-ns#type'), rdflib.term.URIRef('http://projet.fr/text/Node')), (rdflib.term.URIRef('http://projet.fr/text/Chris_Evans'), rdflib.term.URIRef('http://projet.fr/text/name'), rdflib.term.Literal('Chris Evans')), (rdflib.term.URIRef('http://projet.fr/text/Steve_Rogers'), rdflib.term.URIRef('http://projet.fr/text/present_in_work'), rdflib.term.URIRef('http://projet.fr/text/Captain_America')), (rdflib.term.URIRef('http://projet.fr/text/Captain_America'), rdflib.term.URIRef('http://projet.fr/text/name'), rdflib.term.Literal('Captain America')), (rdflib.term.URIRef('http://projet.fr/text/Captain_America'), rdflib.term.URIRef('http://projet.fr/text/publication_date'), rdflib.term.Literal('July 29, 2011'))]\n",
      "[(rdflib.term.URIRef('http://projet.fr/text/Captain_America'), rdflib.term.URIRef('http://projet.fr/text/cast_member'), rdflib.term.URIRef('http://projet.fr/text/Dominic_Cooper')), (rdflib.term.URIRef('http://projet.fr/text/Dominic_Cooper'), rdflib.term.URIRef('http://www.w3.org/1999/02/22-rdf-syntax-ns#type'), rdflib.term.URIRef('http://projet.fr/text/Node')), (rdflib.term.URIRef('http://projet.fr/text/Dominic_Cooper'), rdflib.term.URIRef('http://projet.fr/text/name'), rdflib.term.Literal('Dominic Cooper')), (rdflib.term.URIRef('http://projet.fr/text/Captain_America'), rdflib.term.URIRef('http://projet.fr/text/cast_member'), rdflib.term.URIRef('http://projet.fr/text/Hayley_Atwell')), (rdflib.term.URIRef('http://projet.fr/text/Hayley_Atwell'), rdflib.term.URIRef('http://www.w3.org/1999/02/22-rdf-syntax-ns#type'), rdflib.term.URIRef('http://projet.fr/text/Node')), (rdflib.term.URIRef('http://projet.fr/text/Hayley_Atwell'), rdflib.term.URIRef('http://projet.fr/text/name'), rdflib.term.Literal('Hayley Atwell')), (rdflib.term.URIRef('http://projet.fr/text/Captain_America'), rdflib.term.URIRef('http://projet.fr/text/cast_member'), rdflib.term.URIRef('http://projet.fr/text/Hugo_Weaving')), (rdflib.term.URIRef('http://projet.fr/text/Hugo_Weaving'), rdflib.term.URIRef('http://www.w3.org/1999/02/22-rdf-syntax-ns#type'), rdflib.term.URIRef('http://projet.fr/text/Node')), (rdflib.term.URIRef('http://projet.fr/text/Hugo_Weaving'), rdflib.term.URIRef('http://projet.fr/text/name'), rdflib.term.Literal('Hugo Weaving')), (rdflib.term.URIRef('http://projet.fr/text/Captain_America'), rdflib.term.URIRef('http://projet.fr/text/cast_member'), rdflib.term.URIRef('http://projet.fr/text/Neal_McDon')), (rdflib.term.URIRef('http://projet.fr/text/Neal_McDon'), rdflib.term.URIRef('http://www.w3.org/1999/02/22-rdf-syntax-ns#type'), rdflib.term.URIRef('http://projet.fr/text/Node')), (rdflib.term.URIRef('http://projet.fr/text/Neal_McDon'), rdflib.term.URIRef('http://projet.fr/text/name'), rdflib.term.Literal('Neal McDon')), (rdflib.term.URIRef('http://projet.fr/text/Captain_America'), rdflib.term.URIRef('http://projet.fr/text/cast_member'), rdflib.term.URIRef('http://projet.fr/text/Sebastian_Stan')), (rdflib.term.URIRef('http://projet.fr/text/Sebastian_Stan'), rdflib.term.URIRef('http://www.w3.org/1999/02/22-rdf-syntax-ns#type'), rdflib.term.URIRef('http://projet.fr/text/Node')), (rdflib.term.URIRef('http://projet.fr/text/Sebastian_Stan'), rdflib.term.URIRef('http://projet.fr/text/name'), rdflib.term.Literal('Sebastian Stan')), (rdflib.term.URIRef('http://projet.fr/text/Captain_America'), rdflib.term.URIRef('http://projet.fr/text/cast_member'), rdflib.term.URIRef('http://projet.fr/text/Tommy_Lee_Jones')), (rdflib.term.URIRef('http://projet.fr/text/Tommy_Lee_Jones'), rdflib.term.URIRef('http://www.w3.org/1999/02/22-rdf-syntax-ns#type'), rdflib.term.URIRef('http://projet.fr/text/Node')), (rdflib.term.URIRef('http://projet.fr/text/Tommy_Lee_Jones'), rdflib.term.URIRef('http://projet.fr/text/name'), rdflib.term.Literal('Tommy Lee Jones')), (rdflib.term.URIRef('http://projet.fr/text/Captain_America'), rdflib.term.URIRef('http://projet.fr/text/characters'), rdflib.term.URIRef('http://projet.fr/text/Bucky_Barnes')), (rdflib.term.URIRef('http://projet.fr/text/Bucky_Barnes'), rdflib.term.URIRef('http://www.w3.org/1999/02/22-rdf-syntax-ns#type'), rdflib.term.URIRef('http://projet.fr/text/Node')), (rdflib.term.URIRef('http://projet.fr/text/Bucky_Barnes'), rdflib.term.URIRef('http://projet.fr/text/conflict'), rdflib.term.URIRef('http://projet.fr/text/World_War_II')), (rdflib.term.URIRef('http://projet.fr/text/World_War_II'), rdflib.term.URIRef('http://www.w3.org/1999/02/22-rdf-syntax-ns#type'), rdflib.term.URIRef('http://projet.fr/text/Node')), (rdflib.term.URIRef('http://projet.fr/text/World_War_II'), rdflib.term.URIRef('http://projet.fr/text/name'), rdflib.term.Literal('World War II')), (rdflib.term.URIRef('http://projet.fr/text/Bucky_Barnes'), rdflib.term.URIRef('http://projet.fr/text/name'), rdflib.term.Literal('Bucky Barnes')), (rdflib.term.URIRef('http://projet.fr/text/Bucky_Barnes'), rdflib.term.URIRef('http://projet.fr/text/performer'), rdflib.term.URIRef('http://projet.fr/text/Dominic_Cooper')), (rdflib.term.URIRef('http://projet.fr/text/Bucky_Barnes'), rdflib.term.URIRef('http://projet.fr/text/present_in_work'), rdflib.term.URIRef('http://projet.fr/text/Captain_America')), (rdflib.term.URIRef('http://projet.fr/text/Captain_America'), rdflib.term.URIRef('http://www.w3.org/1999/02/22-rdf-syntax-ns#type'), rdflib.term.URIRef('http://projet.fr/text/Node')), (rdflib.term.URIRef('http://projet.fr/text/Captain_America'), rdflib.term.URIRef('http://projet.fr/text/characters'), rdflib.term.URIRef('http://projet.fr/text/Steve_Rogers')), (rdflib.term.URIRef('http://projet.fr/text/Steve_Rogers'), rdflib.term.URIRef('http://www.w3.org/1999/02/22-rdf-syntax-ns#type'), rdflib.term.URIRef('http://projet.fr/text/Node')), (rdflib.term.URIRef('http://projet.fr/text/Steve_Rogers'), rdflib.term.URIRef('http://projet.fr/text/name'), rdflib.term.Literal('Steve Rogers')), (rdflib.term.URIRef('http://projet.fr/text/Steve_Rogers'), rdflib.term.URIRef('http://projet.fr/text/performer'), rdflib.term.URIRef('http://projet.fr/text/Chris_Evans')), (rdflib.term.URIRef('http://projet.fr/text/Chris_Evans'), rdflib.term.URIRef('http://www.w3.org/1999/02/22-rdf-syntax-ns#type'), rdflib.term.URIRef('http://projet.fr/text/Node')), (rdflib.term.URIRef('http://projet.fr/text/Chris_Evans'), rdflib.term.URIRef('http://projet.fr/text/name'), rdflib.term.Literal('Chris Evans')), (rdflib.term.URIRef('http://projet.fr/text/Steve_Rogers'), rdflib.term.URIRef('http://projet.fr/text/present_in_work'), rdflib.term.URIRef('http://projet.fr/text/Captain_America')), (rdflib.term.URIRef('http://projet.fr/text/Captain_America'), rdflib.term.URIRef('http://projet.fr/text/name'), rdflib.term.Literal('Captain America')), (rdflib.term.URIRef('http://projet.fr/text/Captain_America'), rdflib.term.URIRef('http://projet.fr/text/publication_date'), rdflib.term.Literal('July 29, 2011'))]\n"
     ]
    }
   ],
   "source": [
    "def maxLen(l1, l2):\n",
    "    if len(l1) > len(l2):\n",
    "        return l1\n",
    "    return l2\n",
    "\n",
    "\n",
    "def merge(subj, pred, obj, old_pred, seen):\n",
    "    if (subj,pred,obj) in seen:\n",
    "        return seen\n",
    "    \n",
    "    seen.append((subj,pred,obj))\n",
    "\n",
    "    if subj == best['text']:\n",
    "        subject = best['csv']\n",
    "    else:\n",
    "        subject = ns_film_data[subj.split('/')[-1]]\n",
    "\n",
    "    print(f'{obj}')\n",
    "\n",
    "    if obj == ns_text.Node and subject != best['csv']:\n",
    "        if old_pred == ns_text.characters:\n",
    "            csv.add((subject, RDF.type, ns_perso_schema.Person))\n",
    "            csv.add((subject, RDF.type, ns_perso_schema.Fictional))\n",
    "        elif old_pred == ns_text.cast_member:\n",
    "            csv.add((subject, RDF.type, ns_perso_schema.Person))\n",
    "            csv.add((subject, RDF.type, ns_perso_schema.Real))\n",
    "        else:\n",
    "            csv.add((subject, RDF.type, OWL.onClass))\n",
    "        return seen\n",
    "\n",
    "    property = ns_film_schema[pred.split('/')[-1]]\n",
    "    schema.add((property, RDF.type, OWL.ObjectProperty))\n",
    "\n",
    "    if isinstance(obj, rdflib.term.Literal):\n",
    "        csv.add((subject, property, obj))\n",
    "        return seen\n",
    "    \n",
    "    if obj == best['text']:\n",
    "        object = best['csv']\n",
    "    else:\n",
    "        object = ns_film_data[obj.split('/')[-1]]\n",
    "        \n",
    "    csv.add((subject, property, object))\n",
    "\n",
    "    if pred == ns_text.cast_member:\n",
    "        for s, p, o in text.triples((obj, None, None)):\n",
    "            seen = maxLen(merge(s, p, o, pred, seen), seen)\n",
    "        return seen\n",
    "\n",
    "    if pred == ns_text.characters:\n",
    "        for s, p, o in text.triples((obj, None, None)):\n",
    "            seen = maxLen(merge(s, p, o, pred, seen), seen)\n",
    "        return seen\n",
    "\n",
    "    for s, p, o in text.triples((obj, None, None)):\n",
    "        seen = maxLen(merge(s, p, o, None, seen), seen)\n",
    "    return seen\n",
    "\n",
    "\n",
    "seen = []\n",
    "for predicate in [ns_text.cast_member, ns_text.characters, ns_text.publication_date]:\n",
    "    for subj, pred, obj in text.triples((best['text'], predicate, None)):\n",
    "        print(seen)\n",
    "        seen = merge(best['text'], pred, obj, pred, seen)\n",
    "        #print(seen)"
   ],
   "metadata": {
    "collapsed": false,
    "ExecuteTime": {
     "end_time": "2024-01-18T12:57:10.142319500Z",
     "start_time": "2024-01-18T12:57:10.113842200Z"
    }
   },
   "id": "51d6a50e0d424a11",
   "execution_count": 12
  },
  {
   "cell_type": "code",
   "execution_count": 13,
   "outputs": [
    {
     "data": {
      "text/plain": "<Graph identifier=N3c2d179eda864ef09d79f817ed833b4b (<class 'rdflib.graph.Graph'>)>"
     },
     "execution_count": 13,
     "metadata": {},
     "output_type": "execute_result"
    }
   ],
   "source": [
    "csv.serialize(destination=\"merge.ttl\", format=\"turtle\")\n",
    "schema.serialize(destination=\"modified_schema_film.ttl\", format=\"turtle\")"
   ],
   "metadata": {
    "collapsed": false,
    "ExecuteTime": {
     "end_time": "2024-01-18T12:57:13.765276200Z",
     "start_time": "2024-01-18T12:57:13.645788100Z"
    }
   },
   "id": "ce4241b487c39fe6"
  }
 ],
 "metadata": {
  "kernelspec": {
   "display_name": "Python 3",
   "language": "python",
   "name": "python3"
  },
  "language_info": {
   "codemirror_mode": {
    "name": "ipython",
    "version": 2
   },
   "file_extension": ".py",
   "mimetype": "text/x-python",
   "name": "python",
   "nbconvert_exporter": "python",
   "pygments_lexer": "ipython2",
   "version": "2.7.6"
  }
 },
 "nbformat": 4,
 "nbformat_minor": 5
}
