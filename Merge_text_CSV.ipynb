{
 "cells": [
  {
   "cell_type": "code",
   "execution_count": 1,
   "id": "initial_id",
   "metadata": {
    "collapsed": true,
    "ExecuteTime": {
     "end_time": "2024-01-19T13:06:29.675744200Z",
     "start_time": "2024-01-19T13:06:29.450994600Z"
    }
   },
   "outputs": [],
   "source": [
    "import rdflib\n",
    "import rdflib.term\n",
    "from rdflib import Graph, Namespace, RDF, OWL"
   ]
  },
  {
   "cell_type": "code",
   "execution_count": 2,
   "outputs": [],
   "source": [
    "def calculate_similarity_percentage(list1, list2):\n",
    "    # Convert lists to sets for efficient intersection calculation\n",
    "    set1 = set(list1)\n",
    "    set2 = set(list2)\n",
    "\n",
    "    # Calculate the intersection (common elements) between the two sets\n",
    "    common_elements = set1.intersection(set2)\n",
    "\n",
    "    # Calculate the percentage of similarity\n",
    "    similarity_percentage = (len(common_elements) / len(set1.union(set2))) * 100\n",
    "\n",
    "    return similarity_percentage"
   ],
   "metadata": {
    "collapsed": false,
    "ExecuteTime": {
     "end_time": "2024-01-19T13:06:29.695017500Z",
     "start_time": "2024-01-19T13:06:29.681593500Z"
    }
   },
   "id": "4aa4c44c61510e4f"
  },
  {
   "cell_type": "code",
   "execution_count": 9,
   "outputs": [
    {
     "name": "stdout",
     "output_type": "stream",
     "text": [
      "score {'score': 22.22222222222222, 'text': rdflib.term.URIRef('http://projet.fr/text/CaptainAmerica'), 'csv': rdflib.term.URIRef('http://projet.fr/films_data/26')}\n"
     ]
    }
   ],
   "source": [
    "csv = Graph()\n",
    "csv.parse(\"CSV/modified_movie.ttl\")\n",
    "\n",
    "text = Graph()\n",
    "text.parse('Extract_Text/extracted_text.ttl')\n",
    "ns_film_data = Namespace('http://projet.fr/films_data/')\n",
    "ns_film_schema = Namespace('http://projet.fr/films_schema/')\n",
    "ns_perso_schema = Namespace('http://projet.fr/perso_schema/')\n",
    "ns_text = Namespace('http://projet.fr/text/')\n",
    "\n",
    "csv.bind('p_schema', ns_perso_schema)\n",
    "csv.bind('f_schema', ns_film_schema)\n",
    "csv.bind(\"\", ns_film_data)\n",
    "\n",
    "schema = Graph()\n",
    "schema.parse('schema_film.ttl')\n",
    "\n",
    "best = {'score': -1, 'text': '', 'csv': ''}\n",
    "\n",
    "for subj, pred, obj in text.triples((None, RDF.type, None)):\n",
    "    for t_subj, t_pred, t_obj in csv.triples((None, RDF.type, ns_film_schema.CreativeWork)):\n",
    "\n",
    "        cast = [o.split('/')[-1] for s, p, o in text.triples((subj, ns_text.castmember, None))]\n",
    "\n",
    "        title = text.value(subj, ns_text.name)\n",
    "        stars = [o.split('/')[-1] for s, p, o in csv.triples((t_subj, ns_film_schema.stars, None))]\n",
    "\n",
    "        cast.sort()\n",
    "        stars.sort()\n",
    "\n",
    "        if len(stars) != 0 and len(cast) != 0:\n",
    "            score = calculate_similarity_percentage(cast, stars)\n",
    "\n",
    "            if best['score'] < score:\n",
    "                best['score'] = score\n",
    "                best['text'] = subj\n",
    "                best['csv'] = t_subj\n",
    "\n",
    "print(f'score {best}')\n",
    "\n",
    "for subj, pred, obj in text.triples((None, ns_text.performer, None)):\n",
    "    if len(list(text.triples((best['text'], None, subj)))) != 0 or len(list(text.triples((subj, None, best['text'])))) != 0:\n",
    "        text.add((best['text'], ns_text.characters, subj))\n",
    "        text.add((subj, ns_text.present_in_work, best['text']))"
   ],
   "metadata": {
    "collapsed": false,
    "ExecuteTime": {
     "end_time": "2024-01-19T13:17:16.118969200Z",
     "start_time": "2024-01-19T13:17:15.852782200Z"
    }
   },
   "id": "eb2bf3923d6a6cd"
  },
  {
   "cell_type": "code",
   "outputs": [
    {
     "data": {
      "text/plain": "<Graph identifier=N0e8b97565f794f8d9e60a35c4198b667 (<class 'rdflib.graph.Graph'>)>"
     },
     "execution_count": 10,
     "metadata": {},
     "output_type": "execute_result"
    }
   ],
   "source": [
    "text.serialize(destination=\"modified_text.ttl\", format=\"turtle\")"
   ],
   "metadata": {
    "collapsed": false,
    "ExecuteTime": {
     "end_time": "2024-01-19T13:17:20.079825300Z",
     "start_time": "2024-01-19T13:17:20.057684400Z"
    }
   },
   "id": "5595747a0e238e9e",
   "execution_count": 10
  },
  {
   "cell_type": "code",
   "outputs": [
    {
     "name": "stdout",
     "output_type": "stream",
     "text": [
      "[]\n",
      "http://projet.fr/text/DominicCooper\n",
      "http://projet.fr/text/Node\n",
      "[(rdflib.term.URIRef('http://projet.fr/text/CaptainAmerica'), rdflib.term.URIRef('http://projet.fr/text/castmember'), rdflib.term.URIRef('http://projet.fr/text/DominicCooper')), (rdflib.term.URIRef('http://projet.fr/text/DominicCooper'), rdflib.term.URIRef('http://www.w3.org/1999/02/22-rdf-syntax-ns#type'), rdflib.term.URIRef('http://projet.fr/text/Node'))]\n",
      "http://projet.fr/text/HayleyAtwell\n",
      "http://projet.fr/text/Node\n",
      "[(rdflib.term.URIRef('http://projet.fr/text/CaptainAmerica'), rdflib.term.URIRef('http://projet.fr/text/castmember'), rdflib.term.URIRef('http://projet.fr/text/DominicCooper')), (rdflib.term.URIRef('http://projet.fr/text/DominicCooper'), rdflib.term.URIRef('http://www.w3.org/1999/02/22-rdf-syntax-ns#type'), rdflib.term.URIRef('http://projet.fr/text/Node')), (rdflib.term.URIRef('http://projet.fr/text/CaptainAmerica'), rdflib.term.URIRef('http://projet.fr/text/castmember'), rdflib.term.URIRef('http://projet.fr/text/HayleyAtwell')), (rdflib.term.URIRef('http://projet.fr/text/HayleyAtwell'), rdflib.term.URIRef('http://www.w3.org/1999/02/22-rdf-syntax-ns#type'), rdflib.term.URIRef('http://projet.fr/text/Node'))]\n",
      "http://projet.fr/text/HugoWeaving\n",
      "http://projet.fr/text/Node\n",
      "[(rdflib.term.URIRef('http://projet.fr/text/CaptainAmerica'), rdflib.term.URIRef('http://projet.fr/text/castmember'), rdflib.term.URIRef('http://projet.fr/text/DominicCooper')), (rdflib.term.URIRef('http://projet.fr/text/DominicCooper'), rdflib.term.URIRef('http://www.w3.org/1999/02/22-rdf-syntax-ns#type'), rdflib.term.URIRef('http://projet.fr/text/Node')), (rdflib.term.URIRef('http://projet.fr/text/CaptainAmerica'), rdflib.term.URIRef('http://projet.fr/text/castmember'), rdflib.term.URIRef('http://projet.fr/text/HayleyAtwell')), (rdflib.term.URIRef('http://projet.fr/text/HayleyAtwell'), rdflib.term.URIRef('http://www.w3.org/1999/02/22-rdf-syntax-ns#type'), rdflib.term.URIRef('http://projet.fr/text/Node')), (rdflib.term.URIRef('http://projet.fr/text/CaptainAmerica'), rdflib.term.URIRef('http://projet.fr/text/castmember'), rdflib.term.URIRef('http://projet.fr/text/HugoWeaving')), (rdflib.term.URIRef('http://projet.fr/text/HugoWeaving'), rdflib.term.URIRef('http://www.w3.org/1999/02/22-rdf-syntax-ns#type'), rdflib.term.URIRef('http://projet.fr/text/Node'))]\n",
      "http://projet.fr/text/NealMcDon\n",
      "http://projet.fr/text/Node\n",
      "[(rdflib.term.URIRef('http://projet.fr/text/CaptainAmerica'), rdflib.term.URIRef('http://projet.fr/text/castmember'), rdflib.term.URIRef('http://projet.fr/text/DominicCooper')), (rdflib.term.URIRef('http://projet.fr/text/DominicCooper'), rdflib.term.URIRef('http://www.w3.org/1999/02/22-rdf-syntax-ns#type'), rdflib.term.URIRef('http://projet.fr/text/Node')), (rdflib.term.URIRef('http://projet.fr/text/CaptainAmerica'), rdflib.term.URIRef('http://projet.fr/text/castmember'), rdflib.term.URIRef('http://projet.fr/text/HayleyAtwell')), (rdflib.term.URIRef('http://projet.fr/text/HayleyAtwell'), rdflib.term.URIRef('http://www.w3.org/1999/02/22-rdf-syntax-ns#type'), rdflib.term.URIRef('http://projet.fr/text/Node')), (rdflib.term.URIRef('http://projet.fr/text/CaptainAmerica'), rdflib.term.URIRef('http://projet.fr/text/castmember'), rdflib.term.URIRef('http://projet.fr/text/HugoWeaving')), (rdflib.term.URIRef('http://projet.fr/text/HugoWeaving'), rdflib.term.URIRef('http://www.w3.org/1999/02/22-rdf-syntax-ns#type'), rdflib.term.URIRef('http://projet.fr/text/Node')), (rdflib.term.URIRef('http://projet.fr/text/CaptainAmerica'), rdflib.term.URIRef('http://projet.fr/text/castmember'), rdflib.term.URIRef('http://projet.fr/text/NealMcDon')), (rdflib.term.URIRef('http://projet.fr/text/NealMcDon'), rdflib.term.URIRef('http://www.w3.org/1999/02/22-rdf-syntax-ns#type'), rdflib.term.URIRef('http://projet.fr/text/Node'))]\n",
      "http://projet.fr/text/SebastianStan\n",
      "http://projet.fr/text/Node\n",
      "[(rdflib.term.URIRef('http://projet.fr/text/CaptainAmerica'), rdflib.term.URIRef('http://projet.fr/text/castmember'), rdflib.term.URIRef('http://projet.fr/text/DominicCooper')), (rdflib.term.URIRef('http://projet.fr/text/DominicCooper'), rdflib.term.URIRef('http://www.w3.org/1999/02/22-rdf-syntax-ns#type'), rdflib.term.URIRef('http://projet.fr/text/Node')), (rdflib.term.URIRef('http://projet.fr/text/CaptainAmerica'), rdflib.term.URIRef('http://projet.fr/text/castmember'), rdflib.term.URIRef('http://projet.fr/text/HayleyAtwell')), (rdflib.term.URIRef('http://projet.fr/text/HayleyAtwell'), rdflib.term.URIRef('http://www.w3.org/1999/02/22-rdf-syntax-ns#type'), rdflib.term.URIRef('http://projet.fr/text/Node')), (rdflib.term.URIRef('http://projet.fr/text/CaptainAmerica'), rdflib.term.URIRef('http://projet.fr/text/castmember'), rdflib.term.URIRef('http://projet.fr/text/HugoWeaving')), (rdflib.term.URIRef('http://projet.fr/text/HugoWeaving'), rdflib.term.URIRef('http://www.w3.org/1999/02/22-rdf-syntax-ns#type'), rdflib.term.URIRef('http://projet.fr/text/Node')), (rdflib.term.URIRef('http://projet.fr/text/CaptainAmerica'), rdflib.term.URIRef('http://projet.fr/text/castmember'), rdflib.term.URIRef('http://projet.fr/text/NealMcDon')), (rdflib.term.URIRef('http://projet.fr/text/NealMcDon'), rdflib.term.URIRef('http://www.w3.org/1999/02/22-rdf-syntax-ns#type'), rdflib.term.URIRef('http://projet.fr/text/Node')), (rdflib.term.URIRef('http://projet.fr/text/CaptainAmerica'), rdflib.term.URIRef('http://projet.fr/text/castmember'), rdflib.term.URIRef('http://projet.fr/text/SebastianStan')), (rdflib.term.URIRef('http://projet.fr/text/SebastianStan'), rdflib.term.URIRef('http://www.w3.org/1999/02/22-rdf-syntax-ns#type'), rdflib.term.URIRef('http://projet.fr/text/Node'))]\n",
      "http://projet.fr/text/TommyLeeJones\n",
      "http://projet.fr/text/Node\n",
      "[(rdflib.term.URIRef('http://projet.fr/text/CaptainAmerica'), rdflib.term.URIRef('http://projet.fr/text/castmember'), rdflib.term.URIRef('http://projet.fr/text/DominicCooper')), (rdflib.term.URIRef('http://projet.fr/text/DominicCooper'), rdflib.term.URIRef('http://www.w3.org/1999/02/22-rdf-syntax-ns#type'), rdflib.term.URIRef('http://projet.fr/text/Node')), (rdflib.term.URIRef('http://projet.fr/text/CaptainAmerica'), rdflib.term.URIRef('http://projet.fr/text/castmember'), rdflib.term.URIRef('http://projet.fr/text/HayleyAtwell')), (rdflib.term.URIRef('http://projet.fr/text/HayleyAtwell'), rdflib.term.URIRef('http://www.w3.org/1999/02/22-rdf-syntax-ns#type'), rdflib.term.URIRef('http://projet.fr/text/Node')), (rdflib.term.URIRef('http://projet.fr/text/CaptainAmerica'), rdflib.term.URIRef('http://projet.fr/text/castmember'), rdflib.term.URIRef('http://projet.fr/text/HugoWeaving')), (rdflib.term.URIRef('http://projet.fr/text/HugoWeaving'), rdflib.term.URIRef('http://www.w3.org/1999/02/22-rdf-syntax-ns#type'), rdflib.term.URIRef('http://projet.fr/text/Node')), (rdflib.term.URIRef('http://projet.fr/text/CaptainAmerica'), rdflib.term.URIRef('http://projet.fr/text/castmember'), rdflib.term.URIRef('http://projet.fr/text/NealMcDon')), (rdflib.term.URIRef('http://projet.fr/text/NealMcDon'), rdflib.term.URIRef('http://www.w3.org/1999/02/22-rdf-syntax-ns#type'), rdflib.term.URIRef('http://projet.fr/text/Node')), (rdflib.term.URIRef('http://projet.fr/text/CaptainAmerica'), rdflib.term.URIRef('http://projet.fr/text/castmember'), rdflib.term.URIRef('http://projet.fr/text/SebastianStan')), (rdflib.term.URIRef('http://projet.fr/text/SebastianStan'), rdflib.term.URIRef('http://www.w3.org/1999/02/22-rdf-syntax-ns#type'), rdflib.term.URIRef('http://projet.fr/text/Node')), (rdflib.term.URIRef('http://projet.fr/text/CaptainAmerica'), rdflib.term.URIRef('http://projet.fr/text/castmember'), rdflib.term.URIRef('http://projet.fr/text/TommyLeeJones')), (rdflib.term.URIRef('http://projet.fr/text/TommyLeeJones'), rdflib.term.URIRef('http://www.w3.org/1999/02/22-rdf-syntax-ns#type'), rdflib.term.URIRef('http://projet.fr/text/Node'))]\n",
      "http://projet.fr/text/BuckyBarnes\n",
      "http://projet.fr/text/Node\n",
      "http://projet.fr/text/WorldWarII\n",
      "http://projet.fr/text/Node\n",
      "http://projet.fr/text/DominicCooper\n",
      "http://projet.fr/text/CaptainAmerica\n",
      "http://projet.fr/text/Node\n",
      "http://projet.fr/text/SteveRogers\n",
      "http://projet.fr/text/Node\n",
      "http://projet.fr/text/ChrisEvans\n",
      "http://projet.fr/text/Node\n",
      "http://projet.fr/text/CaptainAmerica\n",
      "July 29, 2011\n",
      "http://projet.fr/text/CaptainAmerica\n",
      "[(rdflib.term.URIRef('http://projet.fr/text/CaptainAmerica'), rdflib.term.URIRef('http://projet.fr/text/castmember'), rdflib.term.URIRef('http://projet.fr/text/DominicCooper')), (rdflib.term.URIRef('http://projet.fr/text/DominicCooper'), rdflib.term.URIRef('http://www.w3.org/1999/02/22-rdf-syntax-ns#type'), rdflib.term.URIRef('http://projet.fr/text/Node')), (rdflib.term.URIRef('http://projet.fr/text/CaptainAmerica'), rdflib.term.URIRef('http://projet.fr/text/castmember'), rdflib.term.URIRef('http://projet.fr/text/HayleyAtwell')), (rdflib.term.URIRef('http://projet.fr/text/HayleyAtwell'), rdflib.term.URIRef('http://www.w3.org/1999/02/22-rdf-syntax-ns#type'), rdflib.term.URIRef('http://projet.fr/text/Node')), (rdflib.term.URIRef('http://projet.fr/text/CaptainAmerica'), rdflib.term.URIRef('http://projet.fr/text/castmember'), rdflib.term.URIRef('http://projet.fr/text/HugoWeaving')), (rdflib.term.URIRef('http://projet.fr/text/HugoWeaving'), rdflib.term.URIRef('http://www.w3.org/1999/02/22-rdf-syntax-ns#type'), rdflib.term.URIRef('http://projet.fr/text/Node')), (rdflib.term.URIRef('http://projet.fr/text/CaptainAmerica'), rdflib.term.URIRef('http://projet.fr/text/castmember'), rdflib.term.URIRef('http://projet.fr/text/NealMcDon')), (rdflib.term.URIRef('http://projet.fr/text/NealMcDon'), rdflib.term.URIRef('http://www.w3.org/1999/02/22-rdf-syntax-ns#type'), rdflib.term.URIRef('http://projet.fr/text/Node')), (rdflib.term.URIRef('http://projet.fr/text/CaptainAmerica'), rdflib.term.URIRef('http://projet.fr/text/castmember'), rdflib.term.URIRef('http://projet.fr/text/SebastianStan')), (rdflib.term.URIRef('http://projet.fr/text/SebastianStan'), rdflib.term.URIRef('http://www.w3.org/1999/02/22-rdf-syntax-ns#type'), rdflib.term.URIRef('http://projet.fr/text/Node')), (rdflib.term.URIRef('http://projet.fr/text/CaptainAmerica'), rdflib.term.URIRef('http://projet.fr/text/castmember'), rdflib.term.URIRef('http://projet.fr/text/TommyLeeJones')), (rdflib.term.URIRef('http://projet.fr/text/TommyLeeJones'), rdflib.term.URIRef('http://www.w3.org/1999/02/22-rdf-syntax-ns#type'), rdflib.term.URIRef('http://projet.fr/text/Node')), (rdflib.term.URIRef('http://projet.fr/text/CaptainAmerica'), rdflib.term.URIRef('http://projet.fr/text/characters'), rdflib.term.URIRef('http://projet.fr/text/BuckyBarnes')), (rdflib.term.URIRef('http://projet.fr/text/BuckyBarnes'), rdflib.term.URIRef('http://www.w3.org/1999/02/22-rdf-syntax-ns#type'), rdflib.term.URIRef('http://projet.fr/text/Node')), (rdflib.term.URIRef('http://projet.fr/text/BuckyBarnes'), rdflib.term.URIRef('http://projet.fr/text/conflict'), rdflib.term.URIRef('http://projet.fr/text/WorldWarII')), (rdflib.term.URIRef('http://projet.fr/text/WorldWarII'), rdflib.term.URIRef('http://www.w3.org/1999/02/22-rdf-syntax-ns#type'), rdflib.term.URIRef('http://projet.fr/text/Node')), (rdflib.term.URIRef('http://projet.fr/text/BuckyBarnes'), rdflib.term.URIRef('http://projet.fr/text/performer'), rdflib.term.URIRef('http://projet.fr/text/DominicCooper')), (rdflib.term.URIRef('http://projet.fr/text/BuckyBarnes'), rdflib.term.URIRef('http://projet.fr/text/present_in_work'), rdflib.term.URIRef('http://projet.fr/text/CaptainAmerica')), (rdflib.term.URIRef('http://projet.fr/text/CaptainAmerica'), rdflib.term.URIRef('http://www.w3.org/1999/02/22-rdf-syntax-ns#type'), rdflib.term.URIRef('http://projet.fr/text/Node')), (rdflib.term.URIRef('http://projet.fr/text/CaptainAmerica'), rdflib.term.URIRef('http://projet.fr/text/characters'), rdflib.term.URIRef('http://projet.fr/text/SteveRogers')), (rdflib.term.URIRef('http://projet.fr/text/SteveRogers'), rdflib.term.URIRef('http://www.w3.org/1999/02/22-rdf-syntax-ns#type'), rdflib.term.URIRef('http://projet.fr/text/Node')), (rdflib.term.URIRef('http://projet.fr/text/SteveRogers'), rdflib.term.URIRef('http://projet.fr/text/performer'), rdflib.term.URIRef('http://projet.fr/text/ChrisEvans')), (rdflib.term.URIRef('http://projet.fr/text/ChrisEvans'), rdflib.term.URIRef('http://www.w3.org/1999/02/22-rdf-syntax-ns#type'), rdflib.term.URIRef('http://projet.fr/text/Node')), (rdflib.term.URIRef('http://projet.fr/text/SteveRogers'), rdflib.term.URIRef('http://projet.fr/text/presentinwork'), rdflib.term.URIRef('http://projet.fr/text/CaptainAmerica')), (rdflib.term.URIRef('http://projet.fr/text/CaptainAmerica'), rdflib.term.URIRef('http://projet.fr/text/publicationdate'), rdflib.term.Literal('July 29, 2011')), (rdflib.term.URIRef('http://projet.fr/text/SteveRogers'), rdflib.term.URIRef('http://projet.fr/text/present_in_work'), rdflib.term.URIRef('http://projet.fr/text/CaptainAmerica'))]\n",
      "[(rdflib.term.URIRef('http://projet.fr/text/CaptainAmerica'), rdflib.term.URIRef('http://projet.fr/text/castmember'), rdflib.term.URIRef('http://projet.fr/text/DominicCooper')), (rdflib.term.URIRef('http://projet.fr/text/DominicCooper'), rdflib.term.URIRef('http://www.w3.org/1999/02/22-rdf-syntax-ns#type'), rdflib.term.URIRef('http://projet.fr/text/Node')), (rdflib.term.URIRef('http://projet.fr/text/CaptainAmerica'), rdflib.term.URIRef('http://projet.fr/text/castmember'), rdflib.term.URIRef('http://projet.fr/text/HayleyAtwell')), (rdflib.term.URIRef('http://projet.fr/text/HayleyAtwell'), rdflib.term.URIRef('http://www.w3.org/1999/02/22-rdf-syntax-ns#type'), rdflib.term.URIRef('http://projet.fr/text/Node')), (rdflib.term.URIRef('http://projet.fr/text/CaptainAmerica'), rdflib.term.URIRef('http://projet.fr/text/castmember'), rdflib.term.URIRef('http://projet.fr/text/HugoWeaving')), (rdflib.term.URIRef('http://projet.fr/text/HugoWeaving'), rdflib.term.URIRef('http://www.w3.org/1999/02/22-rdf-syntax-ns#type'), rdflib.term.URIRef('http://projet.fr/text/Node')), (rdflib.term.URIRef('http://projet.fr/text/CaptainAmerica'), rdflib.term.URIRef('http://projet.fr/text/castmember'), rdflib.term.URIRef('http://projet.fr/text/NealMcDon')), (rdflib.term.URIRef('http://projet.fr/text/NealMcDon'), rdflib.term.URIRef('http://www.w3.org/1999/02/22-rdf-syntax-ns#type'), rdflib.term.URIRef('http://projet.fr/text/Node')), (rdflib.term.URIRef('http://projet.fr/text/CaptainAmerica'), rdflib.term.URIRef('http://projet.fr/text/castmember'), rdflib.term.URIRef('http://projet.fr/text/SebastianStan')), (rdflib.term.URIRef('http://projet.fr/text/SebastianStan'), rdflib.term.URIRef('http://www.w3.org/1999/02/22-rdf-syntax-ns#type'), rdflib.term.URIRef('http://projet.fr/text/Node')), (rdflib.term.URIRef('http://projet.fr/text/CaptainAmerica'), rdflib.term.URIRef('http://projet.fr/text/castmember'), rdflib.term.URIRef('http://projet.fr/text/TommyLeeJones')), (rdflib.term.URIRef('http://projet.fr/text/TommyLeeJones'), rdflib.term.URIRef('http://www.w3.org/1999/02/22-rdf-syntax-ns#type'), rdflib.term.URIRef('http://projet.fr/text/Node')), (rdflib.term.URIRef('http://projet.fr/text/CaptainAmerica'), rdflib.term.URIRef('http://projet.fr/text/characters'), rdflib.term.URIRef('http://projet.fr/text/BuckyBarnes')), (rdflib.term.URIRef('http://projet.fr/text/BuckyBarnes'), rdflib.term.URIRef('http://www.w3.org/1999/02/22-rdf-syntax-ns#type'), rdflib.term.URIRef('http://projet.fr/text/Node')), (rdflib.term.URIRef('http://projet.fr/text/BuckyBarnes'), rdflib.term.URIRef('http://projet.fr/text/conflict'), rdflib.term.URIRef('http://projet.fr/text/WorldWarII')), (rdflib.term.URIRef('http://projet.fr/text/WorldWarII'), rdflib.term.URIRef('http://www.w3.org/1999/02/22-rdf-syntax-ns#type'), rdflib.term.URIRef('http://projet.fr/text/Node')), (rdflib.term.URIRef('http://projet.fr/text/BuckyBarnes'), rdflib.term.URIRef('http://projet.fr/text/performer'), rdflib.term.URIRef('http://projet.fr/text/DominicCooper')), (rdflib.term.URIRef('http://projet.fr/text/BuckyBarnes'), rdflib.term.URIRef('http://projet.fr/text/present_in_work'), rdflib.term.URIRef('http://projet.fr/text/CaptainAmerica')), (rdflib.term.URIRef('http://projet.fr/text/CaptainAmerica'), rdflib.term.URIRef('http://www.w3.org/1999/02/22-rdf-syntax-ns#type'), rdflib.term.URIRef('http://projet.fr/text/Node')), (rdflib.term.URIRef('http://projet.fr/text/CaptainAmerica'), rdflib.term.URIRef('http://projet.fr/text/characters'), rdflib.term.URIRef('http://projet.fr/text/SteveRogers')), (rdflib.term.URIRef('http://projet.fr/text/SteveRogers'), rdflib.term.URIRef('http://www.w3.org/1999/02/22-rdf-syntax-ns#type'), rdflib.term.URIRef('http://projet.fr/text/Node')), (rdflib.term.URIRef('http://projet.fr/text/SteveRogers'), rdflib.term.URIRef('http://projet.fr/text/performer'), rdflib.term.URIRef('http://projet.fr/text/ChrisEvans')), (rdflib.term.URIRef('http://projet.fr/text/ChrisEvans'), rdflib.term.URIRef('http://www.w3.org/1999/02/22-rdf-syntax-ns#type'), rdflib.term.URIRef('http://projet.fr/text/Node')), (rdflib.term.URIRef('http://projet.fr/text/SteveRogers'), rdflib.term.URIRef('http://projet.fr/text/presentinwork'), rdflib.term.URIRef('http://projet.fr/text/CaptainAmerica')), (rdflib.term.URIRef('http://projet.fr/text/CaptainAmerica'), rdflib.term.URIRef('http://projet.fr/text/publicationdate'), rdflib.term.Literal('July 29, 2011')), (rdflib.term.URIRef('http://projet.fr/text/SteveRogers'), rdflib.term.URIRef('http://projet.fr/text/present_in_work'), rdflib.term.URIRef('http://projet.fr/text/CaptainAmerica'))]\n"
     ]
    }
   ],
   "source": [
    "def maxLen(l1, l2):\n",
    "    if len(l1) > len(l2):\n",
    "        return l1\n",
    "    return l2\n",
    "\n",
    "\n",
    "def merge(subj, pred, obj, old_pred, seen):\n",
    "    if (subj,pred,obj) in seen:\n",
    "        return seen\n",
    "    \n",
    "    seen.append((subj,pred,obj))\n",
    "\n",
    "    if subj == best['text']:\n",
    "        subject = best['csv']\n",
    "    else:\n",
    "        subject = ns_film_data[subj.split('/')[-1]]\n",
    "\n",
    "    print(f'{obj}')\n",
    "\n",
    "    if obj == ns_text.Node and subject != best['csv']:\n",
    "        if old_pred == ns_text.characters:\n",
    "            csv.add((subject, RDF.type, ns_perso_schema.Person))\n",
    "            csv.add((subject, RDF.type, ns_perso_schema.Fictional))\n",
    "        elif old_pred == ns_text.castmember:\n",
    "            csv.add((subject, RDF.type, ns_perso_schema.Person))\n",
    "            csv.add((subject, RDF.type, ns_perso_schema.Real))\n",
    "        else:\n",
    "            csv.add((subject, RDF.type, OWL.onClass))\n",
    "        return seen\n",
    "\n",
    "    property = ns_film_schema[pred.split('/')[-1]]\n",
    "    schema.add((property, RDF.type, OWL.ObjectProperty))\n",
    "\n",
    "    if isinstance(obj, rdflib.term.Literal):\n",
    "        csv.add((subject, property, obj))\n",
    "        return seen\n",
    "    \n",
    "    if obj == best['text']:\n",
    "        object = best['csv']\n",
    "    else:\n",
    "        object = ns_film_data[obj.split('/')[-1]]\n",
    "        \n",
    "    csv.add((subject, property, object))\n",
    "\n",
    "    if pred == ns_text.castmember:\n",
    "        for s, p, o in text.triples((obj, None, None)):\n",
    "            seen = maxLen(merge(s, p, o, pred, seen), seen)\n",
    "        return seen\n",
    "\n",
    "    if pred == ns_text.characters:\n",
    "        for s, p, o in text.triples((obj, None, None)):\n",
    "            seen = maxLen(merge(s, p, o, pred, seen), seen)\n",
    "        return seen\n",
    "\n",
    "    for s, p, o in text.triples((obj, None, None)):\n",
    "        seen = maxLen(merge(s, p, o, None, seen), seen)\n",
    "    return seen\n",
    "\n",
    "\n",
    "seen = []\n",
    "for predicate in [ns_text.castmember, ns_text.characters, ns_text.publicationdate]:\n",
    "    for subj, pred, obj in text.triples((best['text'], predicate, None)):\n",
    "        print(seen)\n",
    "        seen = merge(best['text'], pred, obj, pred, seen)\n",
    "        #print(seen)"
   ],
   "metadata": {
    "collapsed": false,
    "ExecuteTime": {
     "end_time": "2024-01-19T13:17:23.030075Z",
     "start_time": "2024-01-19T13:17:23.013704400Z"
    }
   },
   "id": "51d6a50e0d424a11",
   "execution_count": 11
  },
  {
   "cell_type": "code",
   "execution_count": 12,
   "outputs": [
    {
     "data": {
      "text/plain": "<Graph identifier=Ndcec6a62a20c4f8c9fa8cd4e456d3708 (<class 'rdflib.graph.Graph'>)>"
     },
     "execution_count": 12,
     "metadata": {},
     "output_type": "execute_result"
    }
   ],
   "source": [
    "csv.serialize(destination=\"merge.ttl\", format=\"turtle\")\n",
    "schema.serialize(destination=\"modified_schema_film.ttl\", format=\"turtle\")"
   ],
   "metadata": {
    "collapsed": false,
    "ExecuteTime": {
     "end_time": "2024-01-19T13:17:25.895424800Z",
     "start_time": "2024-01-19T13:17:25.789080800Z"
    }
   },
   "id": "ce4241b487c39fe6"
  }
 ],
 "metadata": {
  "kernelspec": {
   "display_name": "Python 3",
   "language": "python",
   "name": "python3"
  },
  "language_info": {
   "codemirror_mode": {
    "name": "ipython",
    "version": 2
   },
   "file_extension": ".py",
   "mimetype": "text/x-python",
   "name": "python",
   "nbconvert_exporter": "python",
   "pygments_lexer": "ipython2",
   "version": "2.7.6"
  }
 },
 "nbformat": 4,
 "nbformat_minor": 5
}
