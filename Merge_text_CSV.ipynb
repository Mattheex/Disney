{
 "cells": [
  {
   "cell_type": "code",
   "execution_count": 20,
   "id": "initial_id",
   "metadata": {
    "collapsed": true,
    "ExecuteTime": {
     "end_time": "2024-01-22T15:13:58.874579700Z",
     "start_time": "2024-01-22T15:13:58.857419500Z"
    }
   },
   "outputs": [],
   "source": [
    "import rdflib\n",
    "import rdflib.term\n",
    "from rdflib import Graph, Namespace, RDF, OWL, RDFS, SDO"
   ]
  },
  {
   "cell_type": "code",
   "execution_count": 32,
   "outputs": [],
   "source": [
    "def calculate_similarity_percentage(list1, list2):\n",
    "    # Convert lists to sets for efficient intersection calculation\n",
    "    set1 = set(list1)\n",
    "    set2 = set(list2)\n",
    "\n",
    "    # Calculate the intersection (common elements) between the two sets\n",
    "    common_elements = set1.intersection(set2)\n",
    "\n",
    "    # Calculate the percentage of similarity\n",
    "    similarity_percentage = (len(common_elements) / len(set1.union(set2))) * 100\n",
    "\n",
    "    return similarity_percentage"
   ],
   "metadata": {
    "collapsed": false,
    "ExecuteTime": {
     "end_time": "2024-01-22T15:27:19.247329300Z",
     "start_time": "2024-01-22T15:27:19.207760400Z"
    }
   },
   "id": "4aa4c44c61510e4f"
  },
  {
   "cell_type": "code",
   "execution_count": 39,
   "outputs": [
    {
     "name": "stdout",
     "output_type": "stream",
     "text": [
      "score {'score': 22.22222222222222, 'text': rdflib.term.URIRef('http://projet.fr/text/CaptainAmerica'), 'csv': rdflib.term.URIRef('http://projet.fr/films_data/26')}\n"
     ]
    }
   ],
   "source": [
    "csv = Graph()\n",
    "csv.parse(\"CSV/modified_movie.ttl\")\n",
    "\n",
    "text = Graph()\n",
    "text.parse('Extract_Text/extracted_text.ttl')\n",
    "ns_film_data = Namespace('http://projet.fr/films_data/')\n",
    "ns_film_schema = Namespace('http://projet.fr/films_schema/')\n",
    "ns_perso_schema = Namespace('http://projet.fr/perso_schema/')\n",
    "ns_text = Namespace('http://projet.fr/text/')\n",
    "\n",
    "csv.bind('p_schema', ns_perso_schema)\n",
    "csv.bind('f_schema', ns_film_schema)\n",
    "csv.bind(\"\", ns_film_data)\n",
    "\n",
    "schema = Graph()\n",
    "schema.parse('schema_film.ttl')\n",
    "\n",
    "best = {'score': -1, 'text': '', 'csv': ''}\n",
    "\n",
    "for subj, pred, obj in text.triples((None, RDF.type, None)):\n",
    "    for t_subj, t_pred, t_obj in csv.triples((None, RDF.type, SDO.Movie)):\n",
    "\n",
    "        cast = [o.split('/')[-1] for s, p, o in text.triples((subj, ns_text.castmember, None))]\n",
    "\n",
    "        title = text.value(subj, ns_text.name)\n",
    "        stars = [o.split('/')[-1] for s, p, o in csv.triples((t_subj, ns_film_schema.stars, None))]\n",
    "\n",
    "        cast.sort()\n",
    "        stars.sort()\n",
    "\n",
    "        if len(stars) != 0 and len(cast) != 0:\n",
    "            score = calculate_similarity_percentage(cast, stars)\n",
    "\n",
    "            if best['score'] < score:\n",
    "                best['score'] = score\n",
    "                best['text'] = subj\n",
    "                best['csv'] = t_subj\n",
    "\n",
    "print(f'score {best}')\n",
    "\n",
    "for subj, pred, obj in text.triples((None, ns_text.performer, None)):\n",
    "    if len(list(text.triples((best['text'], None, subj)))) != 0 or len(\n",
    "            list(text.triples((subj, None, best['text'])))) != 0:\n",
    "        text.add((best['text'], ns_text.characters, subj))\n",
    "        text.add((subj, ns_text.presentinwork, best['text']))\n",
    "        \n",
    "for subj, pred, obj in text.triples((None, ns_text.characters, None)):\n",
    "    text.remove((subj, ns_text.name, None))"
   ],
   "metadata": {
    "collapsed": false,
    "ExecuteTime": {
     "end_time": "2024-01-22T15:28:32.643126700Z",
     "start_time": "2024-01-22T15:28:32.423360Z"
    }
   },
   "id": "eb2bf3923d6a6cd"
  },
  {
   "cell_type": "code",
   "outputs": [
    {
     "data": {
      "text/plain": "<Graph identifier=Nca943914416242a089ecba86f0fd0ded (<class 'rdflib.graph.Graph'>)>"
     },
     "execution_count": 40,
     "metadata": {},
     "output_type": "execute_result"
    }
   ],
   "source": [
    "text.serialize(destination=\"modified_text.ttl\", format=\"turtle\")"
   ],
   "metadata": {
    "collapsed": false,
    "ExecuteTime": {
     "end_time": "2024-01-22T15:28:33.884363900Z",
     "start_time": "2024-01-22T15:28:33.865851Z"
    }
   },
   "id": "5595747a0e238e9e",
   "execution_count": 40
  },
  {
   "cell_type": "code",
   "outputs": [
    {
     "name": "stdout",
     "output_type": "stream",
     "text": [
      "[]\n",
      "http://projet.fr/text/DominicCooper\n",
      "http://projet.fr/text/Node\n",
      "Dominic Cooper\n",
      "[(rdflib.term.URIRef('http://projet.fr/text/CaptainAmerica'), rdflib.term.URIRef('http://projet.fr/text/castmember'), rdflib.term.URIRef('http://projet.fr/text/DominicCooper')), (rdflib.term.URIRef('http://projet.fr/text/DominicCooper'), rdflib.term.URIRef('http://www.w3.org/1999/02/22-rdf-syntax-ns#type'), rdflib.term.URIRef('http://projet.fr/text/Node')), (rdflib.term.URIRef('http://projet.fr/text/DominicCooper'), rdflib.term.URIRef('http://projet.fr/text/name'), rdflib.term.Literal('Dominic Cooper'))]\n",
      "http://projet.fr/text/HayleyAtwell\n",
      "http://projet.fr/text/Node\n",
      "Hayley Atwell\n",
      "[(rdflib.term.URIRef('http://projet.fr/text/CaptainAmerica'), rdflib.term.URIRef('http://projet.fr/text/castmember'), rdflib.term.URIRef('http://projet.fr/text/DominicCooper')), (rdflib.term.URIRef('http://projet.fr/text/DominicCooper'), rdflib.term.URIRef('http://www.w3.org/1999/02/22-rdf-syntax-ns#type'), rdflib.term.URIRef('http://projet.fr/text/Node')), (rdflib.term.URIRef('http://projet.fr/text/DominicCooper'), rdflib.term.URIRef('http://projet.fr/text/name'), rdflib.term.Literal('Dominic Cooper')), (rdflib.term.URIRef('http://projet.fr/text/CaptainAmerica'), rdflib.term.URIRef('http://projet.fr/text/castmember'), rdflib.term.URIRef('http://projet.fr/text/HayleyAtwell')), (rdflib.term.URIRef('http://projet.fr/text/HayleyAtwell'), rdflib.term.URIRef('http://www.w3.org/1999/02/22-rdf-syntax-ns#type'), rdflib.term.URIRef('http://projet.fr/text/Node')), (rdflib.term.URIRef('http://projet.fr/text/HayleyAtwell'), rdflib.term.URIRef('http://projet.fr/text/name'), rdflib.term.Literal('Hayley Atwell'))]\n",
      "http://projet.fr/text/HugoWeaving\n",
      "http://projet.fr/text/Node\n",
      "Hugo Weaving\n",
      "[(rdflib.term.URIRef('http://projet.fr/text/CaptainAmerica'), rdflib.term.URIRef('http://projet.fr/text/castmember'), rdflib.term.URIRef('http://projet.fr/text/DominicCooper')), (rdflib.term.URIRef('http://projet.fr/text/DominicCooper'), rdflib.term.URIRef('http://www.w3.org/1999/02/22-rdf-syntax-ns#type'), rdflib.term.URIRef('http://projet.fr/text/Node')), (rdflib.term.URIRef('http://projet.fr/text/DominicCooper'), rdflib.term.URIRef('http://projet.fr/text/name'), rdflib.term.Literal('Dominic Cooper')), (rdflib.term.URIRef('http://projet.fr/text/CaptainAmerica'), rdflib.term.URIRef('http://projet.fr/text/castmember'), rdflib.term.URIRef('http://projet.fr/text/HayleyAtwell')), (rdflib.term.URIRef('http://projet.fr/text/HayleyAtwell'), rdflib.term.URIRef('http://www.w3.org/1999/02/22-rdf-syntax-ns#type'), rdflib.term.URIRef('http://projet.fr/text/Node')), (rdflib.term.URIRef('http://projet.fr/text/HayleyAtwell'), rdflib.term.URIRef('http://projet.fr/text/name'), rdflib.term.Literal('Hayley Atwell')), (rdflib.term.URIRef('http://projet.fr/text/CaptainAmerica'), rdflib.term.URIRef('http://projet.fr/text/castmember'), rdflib.term.URIRef('http://projet.fr/text/HugoWeaving')), (rdflib.term.URIRef('http://projet.fr/text/HugoWeaving'), rdflib.term.URIRef('http://www.w3.org/1999/02/22-rdf-syntax-ns#type'), rdflib.term.URIRef('http://projet.fr/text/Node')), (rdflib.term.URIRef('http://projet.fr/text/HugoWeaving'), rdflib.term.URIRef('http://projet.fr/text/name'), rdflib.term.Literal('Hugo Weaving'))]\n",
      "http://projet.fr/text/NealMcDon\n",
      "http://projet.fr/text/Node\n",
      "Neal McDon\n",
      "[(rdflib.term.URIRef('http://projet.fr/text/CaptainAmerica'), rdflib.term.URIRef('http://projet.fr/text/castmember'), rdflib.term.URIRef('http://projet.fr/text/DominicCooper')), (rdflib.term.URIRef('http://projet.fr/text/DominicCooper'), rdflib.term.URIRef('http://www.w3.org/1999/02/22-rdf-syntax-ns#type'), rdflib.term.URIRef('http://projet.fr/text/Node')), (rdflib.term.URIRef('http://projet.fr/text/DominicCooper'), rdflib.term.URIRef('http://projet.fr/text/name'), rdflib.term.Literal('Dominic Cooper')), (rdflib.term.URIRef('http://projet.fr/text/CaptainAmerica'), rdflib.term.URIRef('http://projet.fr/text/castmember'), rdflib.term.URIRef('http://projet.fr/text/HayleyAtwell')), (rdflib.term.URIRef('http://projet.fr/text/HayleyAtwell'), rdflib.term.URIRef('http://www.w3.org/1999/02/22-rdf-syntax-ns#type'), rdflib.term.URIRef('http://projet.fr/text/Node')), (rdflib.term.URIRef('http://projet.fr/text/HayleyAtwell'), rdflib.term.URIRef('http://projet.fr/text/name'), rdflib.term.Literal('Hayley Atwell')), (rdflib.term.URIRef('http://projet.fr/text/CaptainAmerica'), rdflib.term.URIRef('http://projet.fr/text/castmember'), rdflib.term.URIRef('http://projet.fr/text/HugoWeaving')), (rdflib.term.URIRef('http://projet.fr/text/HugoWeaving'), rdflib.term.URIRef('http://www.w3.org/1999/02/22-rdf-syntax-ns#type'), rdflib.term.URIRef('http://projet.fr/text/Node')), (rdflib.term.URIRef('http://projet.fr/text/HugoWeaving'), rdflib.term.URIRef('http://projet.fr/text/name'), rdflib.term.Literal('Hugo Weaving')), (rdflib.term.URIRef('http://projet.fr/text/CaptainAmerica'), rdflib.term.URIRef('http://projet.fr/text/castmember'), rdflib.term.URIRef('http://projet.fr/text/NealMcDon')), (rdflib.term.URIRef('http://projet.fr/text/NealMcDon'), rdflib.term.URIRef('http://www.w3.org/1999/02/22-rdf-syntax-ns#type'), rdflib.term.URIRef('http://projet.fr/text/Node')), (rdflib.term.URIRef('http://projet.fr/text/NealMcDon'), rdflib.term.URIRef('http://projet.fr/text/name'), rdflib.term.Literal('Neal McDon'))]\n",
      "http://projet.fr/text/SebastianStan\n",
      "http://projet.fr/text/Node\n",
      "Sebastian Stan\n",
      "[(rdflib.term.URIRef('http://projet.fr/text/CaptainAmerica'), rdflib.term.URIRef('http://projet.fr/text/castmember'), rdflib.term.URIRef('http://projet.fr/text/DominicCooper')), (rdflib.term.URIRef('http://projet.fr/text/DominicCooper'), rdflib.term.URIRef('http://www.w3.org/1999/02/22-rdf-syntax-ns#type'), rdflib.term.URIRef('http://projet.fr/text/Node')), (rdflib.term.URIRef('http://projet.fr/text/DominicCooper'), rdflib.term.URIRef('http://projet.fr/text/name'), rdflib.term.Literal('Dominic Cooper')), (rdflib.term.URIRef('http://projet.fr/text/CaptainAmerica'), rdflib.term.URIRef('http://projet.fr/text/castmember'), rdflib.term.URIRef('http://projet.fr/text/HayleyAtwell')), (rdflib.term.URIRef('http://projet.fr/text/HayleyAtwell'), rdflib.term.URIRef('http://www.w3.org/1999/02/22-rdf-syntax-ns#type'), rdflib.term.URIRef('http://projet.fr/text/Node')), (rdflib.term.URIRef('http://projet.fr/text/HayleyAtwell'), rdflib.term.URIRef('http://projet.fr/text/name'), rdflib.term.Literal('Hayley Atwell')), (rdflib.term.URIRef('http://projet.fr/text/CaptainAmerica'), rdflib.term.URIRef('http://projet.fr/text/castmember'), rdflib.term.URIRef('http://projet.fr/text/HugoWeaving')), (rdflib.term.URIRef('http://projet.fr/text/HugoWeaving'), rdflib.term.URIRef('http://www.w3.org/1999/02/22-rdf-syntax-ns#type'), rdflib.term.URIRef('http://projet.fr/text/Node')), (rdflib.term.URIRef('http://projet.fr/text/HugoWeaving'), rdflib.term.URIRef('http://projet.fr/text/name'), rdflib.term.Literal('Hugo Weaving')), (rdflib.term.URIRef('http://projet.fr/text/CaptainAmerica'), rdflib.term.URIRef('http://projet.fr/text/castmember'), rdflib.term.URIRef('http://projet.fr/text/NealMcDon')), (rdflib.term.URIRef('http://projet.fr/text/NealMcDon'), rdflib.term.URIRef('http://www.w3.org/1999/02/22-rdf-syntax-ns#type'), rdflib.term.URIRef('http://projet.fr/text/Node')), (rdflib.term.URIRef('http://projet.fr/text/NealMcDon'), rdflib.term.URIRef('http://projet.fr/text/name'), rdflib.term.Literal('Neal McDon')), (rdflib.term.URIRef('http://projet.fr/text/CaptainAmerica'), rdflib.term.URIRef('http://projet.fr/text/castmember'), rdflib.term.URIRef('http://projet.fr/text/SebastianStan')), (rdflib.term.URIRef('http://projet.fr/text/SebastianStan'), rdflib.term.URIRef('http://www.w3.org/1999/02/22-rdf-syntax-ns#type'), rdflib.term.URIRef('http://projet.fr/text/Node')), (rdflib.term.URIRef('http://projet.fr/text/SebastianStan'), rdflib.term.URIRef('http://projet.fr/text/name'), rdflib.term.Literal('Sebastian Stan'))]\n",
      "http://projet.fr/text/TommyLeeJones\n",
      "http://projet.fr/text/Node\n",
      "Tommy Lee Jones\n",
      "[(rdflib.term.URIRef('http://projet.fr/text/CaptainAmerica'), rdflib.term.URIRef('http://projet.fr/text/castmember'), rdflib.term.URIRef('http://projet.fr/text/DominicCooper')), (rdflib.term.URIRef('http://projet.fr/text/DominicCooper'), rdflib.term.URIRef('http://www.w3.org/1999/02/22-rdf-syntax-ns#type'), rdflib.term.URIRef('http://projet.fr/text/Node')), (rdflib.term.URIRef('http://projet.fr/text/DominicCooper'), rdflib.term.URIRef('http://projet.fr/text/name'), rdflib.term.Literal('Dominic Cooper')), (rdflib.term.URIRef('http://projet.fr/text/CaptainAmerica'), rdflib.term.URIRef('http://projet.fr/text/castmember'), rdflib.term.URIRef('http://projet.fr/text/HayleyAtwell')), (rdflib.term.URIRef('http://projet.fr/text/HayleyAtwell'), rdflib.term.URIRef('http://www.w3.org/1999/02/22-rdf-syntax-ns#type'), rdflib.term.URIRef('http://projet.fr/text/Node')), (rdflib.term.URIRef('http://projet.fr/text/HayleyAtwell'), rdflib.term.URIRef('http://projet.fr/text/name'), rdflib.term.Literal('Hayley Atwell')), (rdflib.term.URIRef('http://projet.fr/text/CaptainAmerica'), rdflib.term.URIRef('http://projet.fr/text/castmember'), rdflib.term.URIRef('http://projet.fr/text/HugoWeaving')), (rdflib.term.URIRef('http://projet.fr/text/HugoWeaving'), rdflib.term.URIRef('http://www.w3.org/1999/02/22-rdf-syntax-ns#type'), rdflib.term.URIRef('http://projet.fr/text/Node')), (rdflib.term.URIRef('http://projet.fr/text/HugoWeaving'), rdflib.term.URIRef('http://projet.fr/text/name'), rdflib.term.Literal('Hugo Weaving')), (rdflib.term.URIRef('http://projet.fr/text/CaptainAmerica'), rdflib.term.URIRef('http://projet.fr/text/castmember'), rdflib.term.URIRef('http://projet.fr/text/NealMcDon')), (rdflib.term.URIRef('http://projet.fr/text/NealMcDon'), rdflib.term.URIRef('http://www.w3.org/1999/02/22-rdf-syntax-ns#type'), rdflib.term.URIRef('http://projet.fr/text/Node')), (rdflib.term.URIRef('http://projet.fr/text/NealMcDon'), rdflib.term.URIRef('http://projet.fr/text/name'), rdflib.term.Literal('Neal McDon')), (rdflib.term.URIRef('http://projet.fr/text/CaptainAmerica'), rdflib.term.URIRef('http://projet.fr/text/castmember'), rdflib.term.URIRef('http://projet.fr/text/SebastianStan')), (rdflib.term.URIRef('http://projet.fr/text/SebastianStan'), rdflib.term.URIRef('http://www.w3.org/1999/02/22-rdf-syntax-ns#type'), rdflib.term.URIRef('http://projet.fr/text/Node')), (rdflib.term.URIRef('http://projet.fr/text/SebastianStan'), rdflib.term.URIRef('http://projet.fr/text/name'), rdflib.term.Literal('Sebastian Stan')), (rdflib.term.URIRef('http://projet.fr/text/CaptainAmerica'), rdflib.term.URIRef('http://projet.fr/text/castmember'), rdflib.term.URIRef('http://projet.fr/text/TommyLeeJones')), (rdflib.term.URIRef('http://projet.fr/text/TommyLeeJones'), rdflib.term.URIRef('http://www.w3.org/1999/02/22-rdf-syntax-ns#type'), rdflib.term.URIRef('http://projet.fr/text/Node')), (rdflib.term.URIRef('http://projet.fr/text/TommyLeeJones'), rdflib.term.URIRef('http://projet.fr/text/name'), rdflib.term.Literal('Tommy Lee Jones'))]\n",
      "http://projet.fr/text/BuckyBarnes\n",
      "http://projet.fr/text/Node\n",
      "http://projet.fr/text/WorldWarII\n",
      "http://projet.fr/text/Node\n",
      "World War II\n",
      "Bucky Barnes\n",
      "http://projet.fr/text/DominicCooper\n",
      "http://projet.fr/text/CaptainAmerica\n",
      "http://projet.fr/text/Node\n",
      "http://projet.fr/text/SteveRogers\n",
      "http://projet.fr/text/Node\n",
      "Steve Rogers\n",
      "http://projet.fr/text/ChrisEvans\n",
      "http://projet.fr/text/Node\n",
      "Chris Evans\n",
      "http://projet.fr/text/CaptainAmerica\n",
      "2011-07-29\n",
      "[(rdflib.term.URIRef('http://projet.fr/text/CaptainAmerica'), rdflib.term.URIRef('http://projet.fr/text/castmember'), rdflib.term.URIRef('http://projet.fr/text/DominicCooper')), (rdflib.term.URIRef('http://projet.fr/text/DominicCooper'), rdflib.term.URIRef('http://www.w3.org/1999/02/22-rdf-syntax-ns#type'), rdflib.term.URIRef('http://projet.fr/text/Node')), (rdflib.term.URIRef('http://projet.fr/text/DominicCooper'), rdflib.term.URIRef('http://projet.fr/text/name'), rdflib.term.Literal('Dominic Cooper')), (rdflib.term.URIRef('http://projet.fr/text/CaptainAmerica'), rdflib.term.URIRef('http://projet.fr/text/castmember'), rdflib.term.URIRef('http://projet.fr/text/HayleyAtwell')), (rdflib.term.URIRef('http://projet.fr/text/HayleyAtwell'), rdflib.term.URIRef('http://www.w3.org/1999/02/22-rdf-syntax-ns#type'), rdflib.term.URIRef('http://projet.fr/text/Node')), (rdflib.term.URIRef('http://projet.fr/text/HayleyAtwell'), rdflib.term.URIRef('http://projet.fr/text/name'), rdflib.term.Literal('Hayley Atwell')), (rdflib.term.URIRef('http://projet.fr/text/CaptainAmerica'), rdflib.term.URIRef('http://projet.fr/text/castmember'), rdflib.term.URIRef('http://projet.fr/text/HugoWeaving')), (rdflib.term.URIRef('http://projet.fr/text/HugoWeaving'), rdflib.term.URIRef('http://www.w3.org/1999/02/22-rdf-syntax-ns#type'), rdflib.term.URIRef('http://projet.fr/text/Node')), (rdflib.term.URIRef('http://projet.fr/text/HugoWeaving'), rdflib.term.URIRef('http://projet.fr/text/name'), rdflib.term.Literal('Hugo Weaving')), (rdflib.term.URIRef('http://projet.fr/text/CaptainAmerica'), rdflib.term.URIRef('http://projet.fr/text/castmember'), rdflib.term.URIRef('http://projet.fr/text/NealMcDon')), (rdflib.term.URIRef('http://projet.fr/text/NealMcDon'), rdflib.term.URIRef('http://www.w3.org/1999/02/22-rdf-syntax-ns#type'), rdflib.term.URIRef('http://projet.fr/text/Node')), (rdflib.term.URIRef('http://projet.fr/text/NealMcDon'), rdflib.term.URIRef('http://projet.fr/text/name'), rdflib.term.Literal('Neal McDon')), (rdflib.term.URIRef('http://projet.fr/text/CaptainAmerica'), rdflib.term.URIRef('http://projet.fr/text/castmember'), rdflib.term.URIRef('http://projet.fr/text/SebastianStan')), (rdflib.term.URIRef('http://projet.fr/text/SebastianStan'), rdflib.term.URIRef('http://www.w3.org/1999/02/22-rdf-syntax-ns#type'), rdflib.term.URIRef('http://projet.fr/text/Node')), (rdflib.term.URIRef('http://projet.fr/text/SebastianStan'), rdflib.term.URIRef('http://projet.fr/text/name'), rdflib.term.Literal('Sebastian Stan')), (rdflib.term.URIRef('http://projet.fr/text/CaptainAmerica'), rdflib.term.URIRef('http://projet.fr/text/castmember'), rdflib.term.URIRef('http://projet.fr/text/TommyLeeJones')), (rdflib.term.URIRef('http://projet.fr/text/TommyLeeJones'), rdflib.term.URIRef('http://www.w3.org/1999/02/22-rdf-syntax-ns#type'), rdflib.term.URIRef('http://projet.fr/text/Node')), (rdflib.term.URIRef('http://projet.fr/text/TommyLeeJones'), rdflib.term.URIRef('http://projet.fr/text/name'), rdflib.term.Literal('Tommy Lee Jones')), (rdflib.term.URIRef('http://projet.fr/text/CaptainAmerica'), rdflib.term.URIRef('http://projet.fr/text/characters'), rdflib.term.URIRef('http://projet.fr/text/BuckyBarnes')), (rdflib.term.URIRef('http://projet.fr/text/BuckyBarnes'), rdflib.term.URIRef('http://www.w3.org/1999/02/22-rdf-syntax-ns#type'), rdflib.term.URIRef('http://projet.fr/text/Node')), (rdflib.term.URIRef('http://projet.fr/text/BuckyBarnes'), rdflib.term.URIRef('http://projet.fr/text/conflict'), rdflib.term.URIRef('http://projet.fr/text/WorldWarII')), (rdflib.term.URIRef('http://projet.fr/text/WorldWarII'), rdflib.term.URIRef('http://www.w3.org/1999/02/22-rdf-syntax-ns#type'), rdflib.term.URIRef('http://projet.fr/text/Node')), (rdflib.term.URIRef('http://projet.fr/text/WorldWarII'), rdflib.term.URIRef('http://projet.fr/text/name'), rdflib.term.Literal('World War II')), (rdflib.term.URIRef('http://projet.fr/text/BuckyBarnes'), rdflib.term.URIRef('http://projet.fr/text/name'), rdflib.term.Literal('Bucky Barnes')), (rdflib.term.URIRef('http://projet.fr/text/BuckyBarnes'), rdflib.term.URIRef('http://projet.fr/text/performer'), rdflib.term.URIRef('http://projet.fr/text/DominicCooper')), (rdflib.term.URIRef('http://projet.fr/text/BuckyBarnes'), rdflib.term.URIRef('http://projet.fr/text/presentinwork'), rdflib.term.URIRef('http://projet.fr/text/CaptainAmerica')), (rdflib.term.URIRef('http://projet.fr/text/CaptainAmerica'), rdflib.term.URIRef('http://www.w3.org/1999/02/22-rdf-syntax-ns#type'), rdflib.term.URIRef('http://projet.fr/text/Node')), (rdflib.term.URIRef('http://projet.fr/text/CaptainAmerica'), rdflib.term.URIRef('http://projet.fr/text/characters'), rdflib.term.URIRef('http://projet.fr/text/SteveRogers')), (rdflib.term.URIRef('http://projet.fr/text/SteveRogers'), rdflib.term.URIRef('http://www.w3.org/1999/02/22-rdf-syntax-ns#type'), rdflib.term.URIRef('http://projet.fr/text/Node')), (rdflib.term.URIRef('http://projet.fr/text/SteveRogers'), rdflib.term.URIRef('http://projet.fr/text/name'), rdflib.term.Literal('Steve Rogers')), (rdflib.term.URIRef('http://projet.fr/text/SteveRogers'), rdflib.term.URIRef('http://projet.fr/text/performer'), rdflib.term.URIRef('http://projet.fr/text/ChrisEvans')), (rdflib.term.URIRef('http://projet.fr/text/ChrisEvans'), rdflib.term.URIRef('http://www.w3.org/1999/02/22-rdf-syntax-ns#type'), rdflib.term.URIRef('http://projet.fr/text/Node')), (rdflib.term.URIRef('http://projet.fr/text/ChrisEvans'), rdflib.term.URIRef('http://projet.fr/text/name'), rdflib.term.Literal('Chris Evans')), (rdflib.term.URIRef('http://projet.fr/text/SteveRogers'), rdflib.term.URIRef('http://projet.fr/text/presentinwork'), rdflib.term.URIRef('http://projet.fr/text/CaptainAmerica')), (rdflib.term.URIRef('http://projet.fr/text/CaptainAmerica'), rdflib.term.URIRef('http://projet.fr/text/publicationdate'), rdflib.term.Literal('2011-07-29', datatype=rdflib.term.URIRef('http://www.w3.org/2001/XMLSchema#date')))]\n",
      "[(rdflib.term.URIRef('http://projet.fr/text/CaptainAmerica'), rdflib.term.URIRef('http://projet.fr/text/castmember'), rdflib.term.URIRef('http://projet.fr/text/DominicCooper')), (rdflib.term.URIRef('http://projet.fr/text/DominicCooper'), rdflib.term.URIRef('http://www.w3.org/1999/02/22-rdf-syntax-ns#type'), rdflib.term.URIRef('http://projet.fr/text/Node')), (rdflib.term.URIRef('http://projet.fr/text/DominicCooper'), rdflib.term.URIRef('http://projet.fr/text/name'), rdflib.term.Literal('Dominic Cooper')), (rdflib.term.URIRef('http://projet.fr/text/CaptainAmerica'), rdflib.term.URIRef('http://projet.fr/text/castmember'), rdflib.term.URIRef('http://projet.fr/text/HayleyAtwell')), (rdflib.term.URIRef('http://projet.fr/text/HayleyAtwell'), rdflib.term.URIRef('http://www.w3.org/1999/02/22-rdf-syntax-ns#type'), rdflib.term.URIRef('http://projet.fr/text/Node')), (rdflib.term.URIRef('http://projet.fr/text/HayleyAtwell'), rdflib.term.URIRef('http://projet.fr/text/name'), rdflib.term.Literal('Hayley Atwell')), (rdflib.term.URIRef('http://projet.fr/text/CaptainAmerica'), rdflib.term.URIRef('http://projet.fr/text/castmember'), rdflib.term.URIRef('http://projet.fr/text/HugoWeaving')), (rdflib.term.URIRef('http://projet.fr/text/HugoWeaving'), rdflib.term.URIRef('http://www.w3.org/1999/02/22-rdf-syntax-ns#type'), rdflib.term.URIRef('http://projet.fr/text/Node')), (rdflib.term.URIRef('http://projet.fr/text/HugoWeaving'), rdflib.term.URIRef('http://projet.fr/text/name'), rdflib.term.Literal('Hugo Weaving')), (rdflib.term.URIRef('http://projet.fr/text/CaptainAmerica'), rdflib.term.URIRef('http://projet.fr/text/castmember'), rdflib.term.URIRef('http://projet.fr/text/NealMcDon')), (rdflib.term.URIRef('http://projet.fr/text/NealMcDon'), rdflib.term.URIRef('http://www.w3.org/1999/02/22-rdf-syntax-ns#type'), rdflib.term.URIRef('http://projet.fr/text/Node')), (rdflib.term.URIRef('http://projet.fr/text/NealMcDon'), rdflib.term.URIRef('http://projet.fr/text/name'), rdflib.term.Literal('Neal McDon')), (rdflib.term.URIRef('http://projet.fr/text/CaptainAmerica'), rdflib.term.URIRef('http://projet.fr/text/castmember'), rdflib.term.URIRef('http://projet.fr/text/SebastianStan')), (rdflib.term.URIRef('http://projet.fr/text/SebastianStan'), rdflib.term.URIRef('http://www.w3.org/1999/02/22-rdf-syntax-ns#type'), rdflib.term.URIRef('http://projet.fr/text/Node')), (rdflib.term.URIRef('http://projet.fr/text/SebastianStan'), rdflib.term.URIRef('http://projet.fr/text/name'), rdflib.term.Literal('Sebastian Stan')), (rdflib.term.URIRef('http://projet.fr/text/CaptainAmerica'), rdflib.term.URIRef('http://projet.fr/text/castmember'), rdflib.term.URIRef('http://projet.fr/text/TommyLeeJones')), (rdflib.term.URIRef('http://projet.fr/text/TommyLeeJones'), rdflib.term.URIRef('http://www.w3.org/1999/02/22-rdf-syntax-ns#type'), rdflib.term.URIRef('http://projet.fr/text/Node')), (rdflib.term.URIRef('http://projet.fr/text/TommyLeeJones'), rdflib.term.URIRef('http://projet.fr/text/name'), rdflib.term.Literal('Tommy Lee Jones')), (rdflib.term.URIRef('http://projet.fr/text/CaptainAmerica'), rdflib.term.URIRef('http://projet.fr/text/characters'), rdflib.term.URIRef('http://projet.fr/text/BuckyBarnes')), (rdflib.term.URIRef('http://projet.fr/text/BuckyBarnes'), rdflib.term.URIRef('http://www.w3.org/1999/02/22-rdf-syntax-ns#type'), rdflib.term.URIRef('http://projet.fr/text/Node')), (rdflib.term.URIRef('http://projet.fr/text/BuckyBarnes'), rdflib.term.URIRef('http://projet.fr/text/conflict'), rdflib.term.URIRef('http://projet.fr/text/WorldWarII')), (rdflib.term.URIRef('http://projet.fr/text/WorldWarII'), rdflib.term.URIRef('http://www.w3.org/1999/02/22-rdf-syntax-ns#type'), rdflib.term.URIRef('http://projet.fr/text/Node')), (rdflib.term.URIRef('http://projet.fr/text/WorldWarII'), rdflib.term.URIRef('http://projet.fr/text/name'), rdflib.term.Literal('World War II')), (rdflib.term.URIRef('http://projet.fr/text/BuckyBarnes'), rdflib.term.URIRef('http://projet.fr/text/name'), rdflib.term.Literal('Bucky Barnes')), (rdflib.term.URIRef('http://projet.fr/text/BuckyBarnes'), rdflib.term.URIRef('http://projet.fr/text/performer'), rdflib.term.URIRef('http://projet.fr/text/DominicCooper')), (rdflib.term.URIRef('http://projet.fr/text/BuckyBarnes'), rdflib.term.URIRef('http://projet.fr/text/presentinwork'), rdflib.term.URIRef('http://projet.fr/text/CaptainAmerica')), (rdflib.term.URIRef('http://projet.fr/text/CaptainAmerica'), rdflib.term.URIRef('http://www.w3.org/1999/02/22-rdf-syntax-ns#type'), rdflib.term.URIRef('http://projet.fr/text/Node')), (rdflib.term.URIRef('http://projet.fr/text/CaptainAmerica'), rdflib.term.URIRef('http://projet.fr/text/characters'), rdflib.term.URIRef('http://projet.fr/text/SteveRogers')), (rdflib.term.URIRef('http://projet.fr/text/SteveRogers'), rdflib.term.URIRef('http://www.w3.org/1999/02/22-rdf-syntax-ns#type'), rdflib.term.URIRef('http://projet.fr/text/Node')), (rdflib.term.URIRef('http://projet.fr/text/SteveRogers'), rdflib.term.URIRef('http://projet.fr/text/name'), rdflib.term.Literal('Steve Rogers')), (rdflib.term.URIRef('http://projet.fr/text/SteveRogers'), rdflib.term.URIRef('http://projet.fr/text/performer'), rdflib.term.URIRef('http://projet.fr/text/ChrisEvans')), (rdflib.term.URIRef('http://projet.fr/text/ChrisEvans'), rdflib.term.URIRef('http://www.w3.org/1999/02/22-rdf-syntax-ns#type'), rdflib.term.URIRef('http://projet.fr/text/Node')), (rdflib.term.URIRef('http://projet.fr/text/ChrisEvans'), rdflib.term.URIRef('http://projet.fr/text/name'), rdflib.term.Literal('Chris Evans')), (rdflib.term.URIRef('http://projet.fr/text/SteveRogers'), rdflib.term.URIRef('http://projet.fr/text/presentinwork'), rdflib.term.URIRef('http://projet.fr/text/CaptainAmerica')), (rdflib.term.URIRef('http://projet.fr/text/CaptainAmerica'), rdflib.term.URIRef('http://projet.fr/text/publicationdate'), rdflib.term.Literal('2011-07-29', datatype=rdflib.term.URIRef('http://www.w3.org/2001/XMLSchema#date')))]\n"
     ]
    },
    {
     "data": {
      "text/plain": "<Graph identifier=N8a1009f21a544d2281dd1336f68478a5 (<class 'rdflib.graph.Graph'>)>"
     },
     "execution_count": 41,
     "metadata": {},
     "output_type": "execute_result"
    }
   ],
   "source": [
    "def maxLen(l1, l2):\n",
    "    if len(l1) > len(l2):\n",
    "        return l1\n",
    "    return l2\n",
    "\n",
    "\n",
    "def merge(subj, pred, obj, old_pred, seen):\n",
    "    if (subj, pred, obj) in seen:\n",
    "        return seen\n",
    "\n",
    "    seen.append((subj, pred, obj))\n",
    "\n",
    "    if subj == best['text']:\n",
    "        subject = best['csv']\n",
    "    else:\n",
    "        subject = ns_film_data[subj.split('/')[-1]]\n",
    "\n",
    "    print(f'{obj}')\n",
    "\n",
    "    if obj == ns_text.Node and subject != best['csv']:\n",
    "        if old_pred == ns_text.characters:\n",
    "            csv.add((subject, RDF.type, ns_perso_schema.Character))\n",
    "        elif old_pred == ns_text.castmember:\n",
    "            csv.add((subject, RDF.type, ns_perso_schema.Actor))\n",
    "        else:\n",
    "            csv.add((subject, RDF.type, OWL.onClass))\n",
    "        return seen\n",
    "    \n",
    "    if pred.split('/')[-1] == 'name':\n",
    "        property = SDO.name\n",
    "    elif pred.split('/')[-1] == 'characters':\n",
    "        property = SDO.character\n",
    "    else :\n",
    "        property = ns_film_schema[pred.split('/')[-1]]\n",
    "        schema.add((property, RDF.type, OWL.ObjectProperty))\n",
    "\n",
    "    if isinstance(obj, rdflib.term.Literal):\n",
    "        csv.add((subject, property, obj))\n",
    "        return seen\n",
    "\n",
    "    if obj == best['text']:\n",
    "        object = best['csv']\n",
    "    else:\n",
    "        object = ns_film_data[obj.split('/')[-1]]\n",
    "    \n",
    "    csv.add((subject, property, object))\n",
    "\n",
    "    if pred == ns_text.castmember:\n",
    "        for s, p, o in text.triples((obj, None, None)):\n",
    "            seen = maxLen(merge(s, p, o, pred, seen), seen)\n",
    "        return seen\n",
    "\n",
    "    if pred == ns_text.characters:\n",
    "        for s, p, o in text.triples((obj, None, None)):\n",
    "            seen = maxLen(merge(s, p, o, pred, seen), seen)\n",
    "        return seen\n",
    "\n",
    "    for s, p, o in text.triples((obj, None, None)):\n",
    "        seen = maxLen(merge(s, p, o, None, seen), seen)\n",
    "    return seen\n",
    "\n",
    "\n",
    "seen = []\n",
    "for predicate in [ns_text.castmember, ns_text.characters, ns_text.publicationdate]:\n",
    "    for subj, pred, obj in text.triples((best['text'], predicate, None)):\n",
    "        print(seen)\n",
    "        seen = merge(best['text'], pred, obj, pred, seen)\n",
    "        \n",
    "csv.remove((best['csv'], ns_film_schema.name, None))"
   ],
   "metadata": {
    "collapsed": false,
    "ExecuteTime": {
     "end_time": "2024-01-22T15:28:34.499657500Z",
     "start_time": "2024-01-22T15:28:34.456264600Z"
    }
   },
   "id": "51d6a50e0d424a11",
   "execution_count": 41
  },
  {
   "cell_type": "code",
   "outputs": [
    {
     "name": "stderr",
     "output_type": "stream",
     "text": [
      "IOPub data rate exceeded.\n",
      "The notebook server will temporarily stop sending output\n",
      "to the client in order to avoid crashing it.\n",
      "To change this limit, set the config variable\n",
      "`--NotebookApp.iopub_data_rate_limit`.\n",
      "\n",
      "Current values:\n",
      "NotebookApp.iopub_data_rate_limit=1000000.0 (bytes/sec)\n",
      "NotebookApp.rate_limit_window=3.0 (secs)\n",
      "\n"
     ]
    }
   ],
   "source": [
    "database = Graph()\n",
    "database.parse(\"API/database.ttl\")\n",
    "\n",
    "ns_perso_data = Namespace('http://projet.fr/perso_data/')\n",
    "csv.bind('p_data', ns_perso_data)\n",
    "\n",
    "for subj, pred, obj in csv.triples((best['csv'], SDO.character, None)):\n",
    "    for subj_d, pred_d, obj_d in database.triples((None, SDO.name, None)):\n",
    "        #print(obj)\n",
    "        name = csv.value(obj, SDO.name)\n",
    "        #print([f'{subj} {pred} {obj}' for subj, pred, obj in csv.triples((obj, None, None))])\n",
    "        #print(name)\n",
    "        if obj_d == name:\n",
    "            csv.add((obj, RDFS.seeAlso, ns_perso_data[subj_d.split('/')[-1]]))\n",
    "            csv.add((obj, RDFS.seeAlso, ns_perso_data[subj_d.split('/')[-1].replace('P', 'H')]))"
   ],
   "metadata": {
    "collapsed": false,
    "ExecuteTime": {
     "end_time": "2024-01-22T15:28:36.151542500Z",
     "start_time": "2024-01-22T15:28:35.181114800Z"
    }
   },
   "id": "30a9831f83c481cd",
   "execution_count": 42
  },
  {
   "cell_type": "code",
   "outputs": [],
   "source": [
    "from unidecode import unidecode\n",
    "from rdflib import URIRef\n",
    "\n",
    "for subj, pred, obj in csv.triples((None, None, None)):\n",
    "    if type(subj) != rdflib.Literal:\n",
    "        csv.remove((subj,pred,obj))\n",
    "        subj = URIRef(unidecode(subj))\n",
    "        csv.add((subj, pred, obj))\n",
    "    if type(obj) != rdflib.Literal:\n",
    "        csv.remove((subj,pred,obj))\n",
    "        obj = URIRef(unidecode(obj))\n",
    "        csv.add((subj, pred, obj))"
   ],
   "metadata": {
    "collapsed": false,
    "ExecuteTime": {
     "end_time": "2024-01-22T15:28:36.230949300Z",
     "start_time": "2024-01-22T15:28:36.168152400Z"
    }
   },
   "id": "395280fe6bb77519",
   "execution_count": 43
  },
  {
   "cell_type": "code",
   "execution_count": 44,
   "outputs": [
    {
     "data": {
      "text/plain": "<Graph identifier=N0b09f1f652ba461297dfdf24d6b4c27d (<class 'rdflib.graph.Graph'>)>"
     },
     "execution_count": 44,
     "metadata": {},
     "output_type": "execute_result"
    }
   ],
   "source": [
    "csv.serialize(destination=\"merge.ttl\", format=\"turtle\")\n",
    "schema.serialize(destination=\"modified_schema_film.ttl\", format=\"turtle\")"
   ],
   "metadata": {
    "collapsed": false,
    "ExecuteTime": {
     "end_time": "2024-01-22T15:28:36.657848400Z",
     "start_time": "2024-01-22T15:28:36.587962700Z"
    }
   },
   "id": "ce4241b487c39fe6"
  }
 ],
 "metadata": {
  "kernelspec": {
   "display_name": "Python 3",
   "language": "python",
   "name": "python3"
  },
  "language_info": {
   "codemirror_mode": {
    "name": "ipython",
    "version": 2
   },
   "file_extension": ".py",
   "mimetype": "text/x-python",
   "name": "python",
   "nbconvert_exporter": "python",
   "pygments_lexer": "ipython2",
   "version": "2.7.6"
  }
 },
 "nbformat": 4,
 "nbformat_minor": 5
}
